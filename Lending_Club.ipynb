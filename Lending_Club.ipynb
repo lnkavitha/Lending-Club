{
 "cells": [
  {
   "cell_type": "code",
   "execution_count": 1,
   "metadata": {},
   "outputs": [
    {
     "name": "stderr",
     "output_type": "stream",
     "text": [
      "C:\\Users\\Kavitha\\Anaconda3\\lib\\site-packages\\statsmodels\\compat\\pandas.py:56: FutureWarning: The pandas.core.datetools module is deprecated and will be removed in a future version. Please use the pandas.tseries module instead.\n",
      "  from pandas.core import datetools\n"
     ]
    }
   ],
   "source": [
    "import pandas as pd\n",
    "import numpy as np\n",
    "import matplotlib.pyplot as plt\n",
    "%matplotlib inline\n",
    "\n",
    "from sklearn.metrics import confusion_matrix\n",
    "from sklearn.metrics import roc_curve\n",
    "from sklearn.metrics import accuracy_score\n",
    "from sklearn.linear_model import LogisticRegression\n",
    "from sklearn.model_selection import GridSearchCV,train_test_split\n",
    "from sklearn import svm\n",
    "import statsmodels.api as sm\n",
    "from sklearn.preprocessing import StandardScaler\n",
    "from sklearn.decomposition import PCA\n",
    "from sklearn.ensemble import RandomForestClassifier\n",
    "from sklearn.svm import SVC\n",
    "from sklearn.model_selection import GridSearchCV\n",
    "import warnings\n",
    "warnings.filterwarnings('ignore')\n",
    "from sklearn.model_selection import cross_val_score\n",
    "from sklearn.metrics import classification_report\n",
    "import seaborn as sns"
   ]
  },
  {
   "cell_type": "code",
   "execution_count": 2,
   "metadata": {},
   "outputs": [
    {
     "name": "stdout",
     "output_type": "stream",
     "text": [
      "The loan dataset has 42542 samples with 147 features.\n"
     ]
    }
   ],
   "source": [
    "loan_data=pd.read_csv(\"C:\\\\Users\\\\Kavitha\\\\Desktop\\\\Lending_club\\\\Lending_Club_Loan_2007_2011.csv\",skiprows=1, low_memory=False)\n",
    "try:\n",
    "    print(\"The loan dataset has {} samples with {} features.\".format(*loan_data.shape))\n",
    "except:\n",
    "    print(\"The loan dataset could not be loaded. Is the dataset missing?\")\n"
   ]
  },
  {
   "cell_type": "markdown",
   "metadata": {},
   "source": [
    "As we can see, the number of columns will be something to work on. We will remove the desc and url columns mostly because it leads to or describes information that is not necessary for our analysis."
   ]
  },
  {
   "cell_type": "code",
   "execution_count": 3,
   "metadata": {},
   "outputs": [],
   "source": [
    "loan_data = loan_data.drop(['desc', 'url'],axis=1)"
   ]
  },
  {
   "cell_type": "markdown",
   "metadata": {},
   "source": [
    "Another notable thing to remove is to remove columns with more than 50% missing values. It would be time consumming and inefficient to deal with the tremendous amount of missing values from these columns."
   ]
  },
  {
   "cell_type": "code",
   "execution_count": 4,
   "metadata": {},
   "outputs": [],
   "source": [
    "# count half point of the dataset.\n",
    "half_count=len(loan_data)/2\n",
    "# Drop any column with more than 50% missing values\n",
    "loan_data=loan_data.dropna(thresh=half_count,axis=1)\n",
    "# we save the new file\n",
    "loan_data.to_csv('loan_data.csv',index=False)\n"
   ]
  },
  {
   "cell_type": "markdown",
   "metadata": {},
   "source": [
    "We reload the data in the notebook and take a look at the first row."
   ]
  },
  {
   "cell_type": "code",
   "execution_count": 5,
   "metadata": {},
   "outputs": [
    {
     "data": {
      "text/plain": [
       "id                                1077501\n",
       "member_id                         1.3e+06\n",
       "loan_amnt                            5000\n",
       "funded_amnt                          5000\n",
       "funded_amnt_inv                      4975\n",
       "term                            36 months\n",
       "int_rate                           10.65%\n",
       "installment                        162.87\n",
       "grade                                   B\n",
       "sub_grade                              B2\n",
       "emp_title                             NaN\n",
       "emp_length                      10+ years\n",
       "home_ownership                       RENT\n",
       "annual_inc                          24000\n",
       "verification_status              Verified\n",
       "issue_d                            Dec-11\n",
       "loan_status                    Fully Paid\n",
       "pymnt_plan                              n\n",
       "purpose                       credit_card\n",
       "title                            Computer\n",
       "zip_code                            860xx\n",
       "addr_state                             AZ\n",
       "dti                                 27.65\n",
       "delinq_2yrs                             0\n",
       "earliest_cr_line                   Jan-85\n",
       "inq_last_6mths                          1\n",
       "open_acc                                3\n",
       "pub_rec                                 0\n",
       "revol_bal                           13648\n",
       "revol_util                         83.70%\n",
       "total_acc                               9\n",
       "last_fico_range_high                  744\n",
       "initial_list_status                     f\n",
       "out_prncp                               0\n",
       "out_prncp_inv                           0\n",
       "total_pymnt                       5863.16\n",
       "total_pymnt_inv                   5833.84\n",
       "total_rec_prncp                      5000\n",
       "total_rec_int                      863.16\n",
       "total_rec_late_fee                      0\n",
       "recoveries                              0\n",
       "collection_recovery_fee                 0\n",
       "last_pymnt_d                       Jan-15\n",
       "last_pymnt_amnt                    171.62\n",
       "last_credit_pull_d                 May-18\n",
       "collections_12_mths_ex_med              0\n",
       "policy_code                             1\n",
       "application_type               Individual\n",
       "acc_now_delinq                          0\n",
       "chargeoff_within_12_mths                0\n",
       "delinq_amnt                             0\n",
       "pub_rec_bankruptcies                    0\n",
       "tax_liens                               0\n",
       "hardship_flag                           N\n",
       "disbursement_method                  Cash\n",
       "debt_settlement_flag                    N\n",
       "Name: 0, dtype: object"
      ]
     },
     "execution_count": 5,
     "metadata": {},
     "output_type": "execute_result"
    }
   ],
   "source": [
    "loan_data=pd.read_csv('loan_data.csv',low_memory=False)\n",
    "loan_data.drop_duplicates()\n",
    "loan_data.iloc[0]"
   ]
  },
  {
   "cell_type": "code",
   "execution_count": 6,
   "metadata": {},
   "outputs": [
    {
     "data": {
      "text/plain": [
       "56"
      ]
     },
     "execution_count": 6,
     "metadata": {},
     "output_type": "execute_result"
    }
   ],
   "source": [
    "loan_data.shape[1]"
   ]
  },
  {
   "cell_type": "markdown",
   "metadata": {},
   "source": [
    "# I. Analysis"
   ]
  },
  {
   "cell_type": "markdown",
   "metadata": {},
   "source": [
    "## Features Meaning and Usefulness"
   ]
  },
  {
   "cell_type": "markdown",
   "metadata": {},
   "source": [
    "\n",
    "We will use the first entry of the loan_data.csv file to explore the meaning of the remaining 56 columns."
   ]
  },
  {
   "cell_type": "code",
   "execution_count": 7,
   "metadata": {},
   "outputs": [],
   "source": [
    "first_entry=loan_data.iloc[0]\n",
    "first_entry.to_csv('first_entry.csv',index=True)"
   ]
  },
  {
   "cell_type": "code",
   "execution_count": 8,
   "metadata": {},
   "outputs": [
    {
     "data": {
      "text/plain": [
       "(117, 2)"
      ]
     },
     "execution_count": 8,
     "metadata": {},
     "output_type": "execute_result"
    }
   ],
   "source": [
    "description=pd.read_csv('C:\\\\Users\\\\Kavitha\\\\Desktop\\\\Lending_club\\\\LCDataDictionary.csv')\n",
    "description.shape"
   ]
  },
  {
   "cell_type": "code",
   "execution_count": 9,
   "metadata": {},
   "outputs": [],
   "source": [
    "import csv\n",
    "\n",
    "list_first_entry=open('first_entry.csv','r')\n",
    "first_csvreader=csv.reader(list_first_entry)\n",
    "first_list=list(first_csvreader)\n",
    "#print(\"First list is:\",first_list)\n",
    "\n",
    "list_data_dictio=open('LCDataDictionary.csv','r')\n",
    "second_csvreader=csv.reader(list_data_dictio)\n",
    "second_list=list(second_csvreader)\n",
    "#print(\"Second list is:\",second_list)\n",
    "\n",
    "table=[]\n",
    "for row in first_list:\n",
    "    table.append(row[0])\n",
    "    \n",
    "new_table=[]\n",
    "for col in second_list:\n",
    "    if col[0] in table:\n",
    "        new_table.append(col)"
   ]
  },
  {
   "cell_type": "code",
   "execution_count": 10,
   "metadata": {},
   "outputs": [],
   "source": [
    "df_table=pd.DataFrame(new_table,columns=['Variable','Description'])"
   ]
  },
  {
   "cell_type": "code",
   "execution_count": 11,
   "metadata": {},
   "outputs": [],
   "source": [
    "df_table=df_table.set_index(['Variable','Description'])"
   ]
  },
  {
   "cell_type": "code",
   "execution_count": 12,
   "metadata": {},
   "outputs": [
    {
     "data": {
      "text/html": [
       "<div>\n",
       "<style scoped>\n",
       "    .dataframe tbody tr th:only-of-type {\n",
       "        vertical-align: middle;\n",
       "    }\n",
       "\n",
       "    .dataframe tbody tr th {\n",
       "        vertical-align: top;\n",
       "    }\n",
       "\n",
       "    .dataframe thead th {\n",
       "        text-align: right;\n",
       "    }\n",
       "</style>\n",
       "<table border=\"1\" class=\"dataframe\">\n",
       "  <thead>\n",
       "    <tr style=\"text-align: right;\">\n",
       "      <th></th>\n",
       "      <th></th>\n",
       "    </tr>\n",
       "    <tr>\n",
       "      <th>Variable</th>\n",
       "      <th>Description</th>\n",
       "    </tr>\n",
       "  </thead>\n",
       "  <tbody>\n",
       "    <tr>\n",
       "      <th>acc_now_delinq</th>\n",
       "      <th>The number of accounts on which the borrower is now delinquent.</th>\n",
       "    </tr>\n",
       "    <tr>\n",
       "      <th>addr_state</th>\n",
       "      <th>The state provided by the borrower in the loan application</th>\n",
       "    </tr>\n",
       "    <tr>\n",
       "      <th>annual_inc</th>\n",
       "      <th>The self-reported annual income provided by the borrower during registration.</th>\n",
       "    </tr>\n",
       "    <tr>\n",
       "      <th>application_type</th>\n",
       "      <th>Indicates whether the loan is an individual application or a joint application with two co-borrowers</th>\n",
       "    </tr>\n",
       "    <tr>\n",
       "      <th>chargeoff_within_12_mths</th>\n",
       "      <th>Number of charge-offs within 12 months</th>\n",
       "    </tr>\n",
       "    <tr>\n",
       "      <th>collection_recovery_fee</th>\n",
       "      <th>post charge off collection fee</th>\n",
       "    </tr>\n",
       "    <tr>\n",
       "      <th>collections_12_mths_ex_med</th>\n",
       "      <th>Number of collections in 12 months excluding medical collections</th>\n",
       "    </tr>\n",
       "    <tr>\n",
       "      <th>delinq_2yrs</th>\n",
       "      <th>The number of 30+ days past-due incidences of delinquency in the borrower's credit file for the past 2 years</th>\n",
       "    </tr>\n",
       "    <tr>\n",
       "      <th>delinq_amnt</th>\n",
       "      <th>The past-due amount owed for the accounts on which the borrower is now delinquent.</th>\n",
       "    </tr>\n",
       "    <tr>\n",
       "      <th>dti</th>\n",
       "      <th>A ratio calculated using the borrowerâ€™s total monthly debt payments on the total debt obligations, excluding mortgage and the requested LC loan, divided by the borrowerâ€™s self-reported monthly income.</th>\n",
       "    </tr>\n",
       "    <tr>\n",
       "      <th>earliest_cr_line</th>\n",
       "      <th>The month the borrower's earliest reported credit line was opened</th>\n",
       "    </tr>\n",
       "    <tr>\n",
       "      <th>emp_length</th>\n",
       "      <th>Employment length in years. Possible values are between 0 and 10 where 0 means less than one year and 10 means ten or more years.</th>\n",
       "    </tr>\n",
       "    <tr>\n",
       "      <th>emp_title</th>\n",
       "      <th>The job title supplied by the Borrower when applying for the loan.*</th>\n",
       "    </tr>\n",
       "    <tr>\n",
       "      <th>funded_amnt</th>\n",
       "      <th>The total amount committed to that loan at that point in time.</th>\n",
       "    </tr>\n",
       "    <tr>\n",
       "      <th>funded_amnt_inv</th>\n",
       "      <th>The total amount committed by investors for that loan at that point in time.</th>\n",
       "    </tr>\n",
       "    <tr>\n",
       "      <th>grade</th>\n",
       "      <th>LC assigned loan grade</th>\n",
       "    </tr>\n",
       "    <tr>\n",
       "      <th>home_ownership</th>\n",
       "      <th>The home ownership status provided by the borrower during registration. Our values are: RENT, OWN, MORTGAGE, OTHER.</th>\n",
       "    </tr>\n",
       "    <tr>\n",
       "      <th>id</th>\n",
       "      <th>A unique LC assigned ID for the loan listing.</th>\n",
       "    </tr>\n",
       "    <tr>\n",
       "      <th>initial_list_status</th>\n",
       "      <th>The initial listing status of the loan. Possible values are â€“ W, F</th>\n",
       "    </tr>\n",
       "    <tr>\n",
       "      <th>inq_last_6mths</th>\n",
       "      <th>The number of inquiries in past 6 months (excluding auto and mortgage inquiries)</th>\n",
       "    </tr>\n",
       "    <tr>\n",
       "      <th>installment</th>\n",
       "      <th>The monthly payment owed by the borrower if the loan originates.</th>\n",
       "    </tr>\n",
       "    <tr>\n",
       "      <th>int_rate</th>\n",
       "      <th>Interest Rate on the loan</th>\n",
       "    </tr>\n",
       "    <tr>\n",
       "      <th>issue_d</th>\n",
       "      <th>The month which the loan was funded</th>\n",
       "    </tr>\n",
       "    <tr>\n",
       "      <th>last_credit_pull_d</th>\n",
       "      <th>The most recent month LC pulled credit for this loan</th>\n",
       "    </tr>\n",
       "    <tr>\n",
       "      <th>last_fico_range_high</th>\n",
       "      <th>The upper boundary range the borrowerâ€™s last FICO pulled belongs to.</th>\n",
       "    </tr>\n",
       "    <tr>\n",
       "      <th>last_pymnt_amnt</th>\n",
       "      <th>Last total payment amount received</th>\n",
       "    </tr>\n",
       "    <tr>\n",
       "      <th>last_pymnt_d</th>\n",
       "      <th>Last month payment was received</th>\n",
       "    </tr>\n",
       "    <tr>\n",
       "      <th>loan_amnt</th>\n",
       "      <th>The listed amount of the loan applied for by the borrower. If at some point in time, the credit department reduces the loan amount, then it will be reflected in this value.</th>\n",
       "    </tr>\n",
       "    <tr>\n",
       "      <th>loan_status</th>\n",
       "      <th>Current status of the loan</th>\n",
       "    </tr>\n",
       "    <tr>\n",
       "      <th>member_id</th>\n",
       "      <th>A unique LC assigned Id for the borrower member.</th>\n",
       "    </tr>\n",
       "    <tr>\n",
       "      <th>open_acc</th>\n",
       "      <th>The number of open credit lines in the borrower's credit file.</th>\n",
       "    </tr>\n",
       "    <tr>\n",
       "      <th>out_prncp</th>\n",
       "      <th>Remaining outstanding principal for total amount funded</th>\n",
       "    </tr>\n",
       "    <tr>\n",
       "      <th>out_prncp_inv</th>\n",
       "      <th>Remaining outstanding principal for portion of total amount funded by investors</th>\n",
       "    </tr>\n",
       "    <tr>\n",
       "      <th>policy_code</th>\n",
       "      <th>publicly available policy_code=1\\nnew products not publicly available policy_code=2</th>\n",
       "    </tr>\n",
       "    <tr>\n",
       "      <th>pub_rec</th>\n",
       "      <th>Number of derogatory public records</th>\n",
       "    </tr>\n",
       "    <tr>\n",
       "      <th>pub_rec_bankruptcies</th>\n",
       "      <th>Number of public record bankruptcies</th>\n",
       "    </tr>\n",
       "    <tr>\n",
       "      <th>purpose</th>\n",
       "      <th>A category provided by the borrower for the loan request.</th>\n",
       "    </tr>\n",
       "    <tr>\n",
       "      <th>pymnt_plan</th>\n",
       "      <th>Indicates if a payment plan has been put in place for the loan</th>\n",
       "    </tr>\n",
       "    <tr>\n",
       "      <th>recoveries</th>\n",
       "      <th>post charge off gross recovery</th>\n",
       "    </tr>\n",
       "    <tr>\n",
       "      <th>revol_bal</th>\n",
       "      <th>Total credit revolving balance</th>\n",
       "    </tr>\n",
       "    <tr>\n",
       "      <th>revol_util</th>\n",
       "      <th>Revolving line utilization rate, or the amount of credit the borrower is using relative to all available revolving credit.</th>\n",
       "    </tr>\n",
       "    <tr>\n",
       "      <th>sub_grade</th>\n",
       "      <th>LC assigned loan subgrade</th>\n",
       "    </tr>\n",
       "    <tr>\n",
       "      <th>tax_liens</th>\n",
       "      <th>Number of tax liens</th>\n",
       "    </tr>\n",
       "    <tr>\n",
       "      <th>term</th>\n",
       "      <th>The number of payments on the loan. Values are in months and can be either 36 or 60.</th>\n",
       "    </tr>\n",
       "    <tr>\n",
       "      <th>title</th>\n",
       "      <th>The loan title provided by the borrower</th>\n",
       "    </tr>\n",
       "    <tr>\n",
       "      <th>total_acc</th>\n",
       "      <th>The total number of credit lines currently in the borrower's credit file</th>\n",
       "    </tr>\n",
       "    <tr>\n",
       "      <th>total_pymnt</th>\n",
       "      <th>Payments received to date for total amount funded</th>\n",
       "    </tr>\n",
       "    <tr>\n",
       "      <th>total_pymnt_inv</th>\n",
       "      <th>Payments received to date for portion of total amount funded by investors</th>\n",
       "    </tr>\n",
       "    <tr>\n",
       "      <th>total_rec_int</th>\n",
       "      <th>Interest received to date</th>\n",
       "    </tr>\n",
       "    <tr>\n",
       "      <th>total_rec_late_fee</th>\n",
       "      <th>Late fees received to date</th>\n",
       "    </tr>\n",
       "    <tr>\n",
       "      <th>total_rec_prncp</th>\n",
       "      <th>Principal received to date</th>\n",
       "    </tr>\n",
       "    <tr>\n",
       "      <th>verification_status</th>\n",
       "      <th>Indicates if income was verified by LC, not verified, or if the income source was verified</th>\n",
       "    </tr>\n",
       "    <tr>\n",
       "      <th>zip_code</th>\n",
       "      <th>The first 3 numbers of the zip code provided by the borrower in the loan application.</th>\n",
       "    </tr>\n",
       "  </tbody>\n",
       "</table>\n",
       "</div>"
      ],
      "text/plain": [
       "Empty DataFrame\n",
       "Columns: []\n",
       "Index: [(acc_now_delinq, The number of accounts on which the borrower is now delinquent.), (addr_state, The state provided by the borrower in the loan application), (annual_inc, The self-reported annual income provided by the borrower during registration.), (application_type, Indicates whether the loan is an individual application or a joint application with two co-borrowers), (chargeoff_within_12_mths, Number of charge-offs within 12 months), (collection_recovery_fee, post charge off collection fee), (collections_12_mths_ex_med, Number of collections in 12 months excluding medical collections), (delinq_2yrs, The number of 30+ days past-due incidences of delinquency in the borrower's credit file for the past 2 years), (delinq_amnt, The past-due amount owed for the accounts on which the borrower is now delinquent.), (dti, A ratio calculated using the borrowerâ€™s total monthly debt payments on the total debt obligations, excluding mortgage and the requested LC loan, divided by the borrowerâ€™s self-reported monthly income.), (earliest_cr_line, The month the borrower's earliest reported credit line was opened), (emp_length, Employment length in years. Possible values are between 0 and 10 where 0 means less than one year and 10 means ten or more years. ), (emp_title, The job title supplied by the Borrower when applying for the loan.*), (funded_amnt, The total amount committed to that loan at that point in time.), (funded_amnt_inv, The total amount committed by investors for that loan at that point in time.), (grade, LC assigned loan grade), (home_ownership, The home ownership status provided by the borrower during registration. Our values are: RENT, OWN, MORTGAGE, OTHER.), (id, A unique LC assigned ID for the loan listing.), (initial_list_status, The initial listing status of the loan. Possible values are â€“ W, F), (inq_last_6mths, The number of inquiries in past 6 months (excluding auto and mortgage inquiries)), (installment, The monthly payment owed by the borrower if the loan originates.), (int_rate, Interest Rate on the loan), (issue_d, The month which the loan was funded), (last_credit_pull_d, The most recent month LC pulled credit for this loan), (last_fico_range_high, The upper boundary range the borrowerâ€™s last FICO pulled belongs to.), (last_pymnt_amnt, Last total payment amount received), (last_pymnt_d, Last month payment was received), (loan_amnt, The listed amount of the loan applied for by the borrower. If at some point in time, the credit department reduces the loan amount, then it will be reflected in this value.), (loan_status, Current status of the loan), (member_id, A unique LC assigned Id for the borrower member.), (open_acc, The number of open credit lines in the borrower's credit file.), (out_prncp, Remaining outstanding principal for total amount funded), (out_prncp_inv, Remaining outstanding principal for portion of total amount funded by investors), (policy_code, publicly available policy_code=1\n",
       "new products not publicly available policy_code=2), (pub_rec, Number of derogatory public records), (pub_rec_bankruptcies, Number of public record bankruptcies), (purpose, A category provided by the borrower for the loan request. ), (pymnt_plan, Indicates if a payment plan has been put in place for the loan), (recoveries, post charge off gross recovery), (revol_bal, Total credit revolving balance), (revol_util, Revolving line utilization rate, or the amount of credit the borrower is using relative to all available revolving credit.), (sub_grade, LC assigned loan subgrade), (tax_liens, Number of tax liens), (term, The number of payments on the loan. Values are in months and can be either 36 or 60.), (title, The loan title provided by the borrower), (total_acc, The total number of credit lines currently in the borrower's credit file), (total_pymnt, Payments received to date for total amount funded), (total_pymnt_inv, Payments received to date for portion of total amount funded by investors), (total_rec_int, Interest received to date), (total_rec_late_fee, Late fees received to date), (total_rec_prncp, Principal received to date), (verification_status, Indicates if income was verified by LC, not verified, or if the income source was verified), (zip_code, The first 3 numbers of the zip code provided by the borrower in the loan application.)]"
      ]
     },
     "execution_count": 12,
     "metadata": {},
     "output_type": "execute_result"
    }
   ],
   "source": [
    "df_table"
   ]
  },
  {
   "cell_type": "markdown",
   "metadata": {},
   "source": [
    "# First Set Of Features¶"
   ]
  },
  {
   "cell_type": "markdown",
   "metadata": {},
   "source": [
    "By analyzing the first 13 features, we understand that we can remove the id because it does not tell us anything about the person, these are arbitrary features given by Lending Club."
   ]
  },
  {
   "cell_type": "markdown",
   "metadata": {},
   "source": [
    "The funded_amnt and funded_amnt_inv are both features about the future the loan has been approved at that point and cannot be considered in our model. grade and sub_grade are recurring data that we already have with (or a different angle on) the int_rate feature, thus we can dispose of them."
   ]
  },
  {
   "cell_type": "markdown",
   "metadata": {},
   "source": [
    "Finally, although it could be an area of improvement in our model, the emp_title feature would be a hard feature to evaluate. Some form of sentiment analysis would need to be used and certain metrics would need to provide a good estimate of a title's meaning and value in the lending context. We will refrain ourselves in delving deeper, but we noticed this could be an interesting data science side project."
   ]
  },
  {
   "cell_type": "code",
   "execution_count": 13,
   "metadata": {},
   "outputs": [
    {
     "data": {
      "text/html": [
       "<div>\n",
       "<style scoped>\n",
       "    .dataframe tbody tr th:only-of-type {\n",
       "        vertical-align: middle;\n",
       "    }\n",
       "\n",
       "    .dataframe tbody tr th {\n",
       "        vertical-align: top;\n",
       "    }\n",
       "\n",
       "    .dataframe thead th {\n",
       "        text-align: right;\n",
       "    }\n",
       "</style>\n",
       "<table border=\"1\" class=\"dataframe\">\n",
       "  <thead>\n",
       "    <tr style=\"text-align: right;\">\n",
       "      <th></th>\n",
       "      <th></th>\n",
       "    </tr>\n",
       "    <tr>\n",
       "      <th>Variable</th>\n",
       "      <th>Description</th>\n",
       "    </tr>\n",
       "  </thead>\n",
       "  <tbody>\n",
       "    <tr>\n",
       "      <th>emp_title</th>\n",
       "      <th>The job title supplied by the Borrower when applying for the loan.*</th>\n",
       "    </tr>\n",
       "    <tr>\n",
       "      <th>funded_amnt</th>\n",
       "      <th>The total amount committed to that loan at that point in time.</th>\n",
       "    </tr>\n",
       "    <tr>\n",
       "      <th>funded_amnt_inv</th>\n",
       "      <th>The total amount committed by investors for that loan at that point in time.</th>\n",
       "    </tr>\n",
       "    <tr>\n",
       "      <th>grade</th>\n",
       "      <th>LC assigned loan grade</th>\n",
       "    </tr>\n",
       "    <tr>\n",
       "      <th>id</th>\n",
       "      <th>A unique LC assigned ID for the loan listing.</th>\n",
       "    </tr>\n",
       "    <tr>\n",
       "      <th>issue_d</th>\n",
       "      <th>The month which the loan was funded</th>\n",
       "    </tr>\n",
       "    <tr>\n",
       "      <th>member_id</th>\n",
       "      <th>A unique LC assigned Id for the borrower member.</th>\n",
       "    </tr>\n",
       "    <tr>\n",
       "      <th>sub_grade</th>\n",
       "      <th>LC assigned loan subgrade</th>\n",
       "    </tr>\n",
       "  </tbody>\n",
       "</table>\n",
       "</div>"
      ],
      "text/plain": [
       "Empty DataFrame\n",
       "Columns: []\n",
       "Index: [(emp_title, The job title supplied by the Borrower when applying for the loan.*), (funded_amnt, The total amount committed to that loan at that point in time.), (funded_amnt_inv, The total amount committed by investors for that loan at that point in time.), (grade, LC assigned loan grade), (id, A unique LC assigned ID for the loan listing.), (issue_d, The month which the loan was funded), (member_id, A unique LC assigned Id for the borrower member.), (sub_grade, LC assigned loan subgrade)]"
      ]
     },
     "execution_count": 13,
     "metadata": {},
     "output_type": "execute_result"
    }
   ],
   "source": [
    "first_13 = ['id','member_id','funded_amnt','funded_amnt_inv','grade','sub_grade','emp_title','issue_d']\n",
    "df_table.loc[first_13]"
   ]
  },
  {
   "cell_type": "code",
   "execution_count": 14,
   "metadata": {},
   "outputs": [
    {
     "data": {
      "text/html": [
       "<div>\n",
       "<style scoped>\n",
       "    .dataframe tbody tr th:only-of-type {\n",
       "        vertical-align: middle;\n",
       "    }\n",
       "\n",
       "    .dataframe tbody tr th {\n",
       "        vertical-align: top;\n",
       "    }\n",
       "\n",
       "    .dataframe thead th {\n",
       "        text-align: right;\n",
       "    }\n",
       "</style>\n",
       "<table border=\"1\" class=\"dataframe\">\n",
       "  <thead>\n",
       "    <tr style=\"text-align: right;\">\n",
       "      <th></th>\n",
       "      <th>loan_amnt</th>\n",
       "      <th>term</th>\n",
       "      <th>int_rate</th>\n",
       "      <th>installment</th>\n",
       "      <th>emp_length</th>\n",
       "      <th>home_ownership</th>\n",
       "      <th>annual_inc</th>\n",
       "      <th>verification_status</th>\n",
       "      <th>issue_d</th>\n",
       "      <th>loan_status</th>\n",
       "      <th>...</th>\n",
       "      <th>policy_code</th>\n",
       "      <th>application_type</th>\n",
       "      <th>acc_now_delinq</th>\n",
       "      <th>chargeoff_within_12_mths</th>\n",
       "      <th>delinq_amnt</th>\n",
       "      <th>pub_rec_bankruptcies</th>\n",
       "      <th>tax_liens</th>\n",
       "      <th>hardship_flag</th>\n",
       "      <th>disbursement_method</th>\n",
       "      <th>debt_settlement_flag</th>\n",
       "    </tr>\n",
       "  </thead>\n",
       "  <tbody>\n",
       "    <tr>\n",
       "      <th>0</th>\n",
       "      <td>5000.0</td>\n",
       "      <td>36 months</td>\n",
       "      <td>10.65%</td>\n",
       "      <td>162.87</td>\n",
       "      <td>10+ years</td>\n",
       "      <td>RENT</td>\n",
       "      <td>24000.0</td>\n",
       "      <td>Verified</td>\n",
       "      <td>Dec-11</td>\n",
       "      <td>Fully Paid</td>\n",
       "      <td>...</td>\n",
       "      <td>1.0</td>\n",
       "      <td>Individual</td>\n",
       "      <td>0.0</td>\n",
       "      <td>0.0</td>\n",
       "      <td>0.0</td>\n",
       "      <td>0.0</td>\n",
       "      <td>0.0</td>\n",
       "      <td>N</td>\n",
       "      <td>Cash</td>\n",
       "      <td>N</td>\n",
       "    </tr>\n",
       "    <tr>\n",
       "      <th>1</th>\n",
       "      <td>2500.0</td>\n",
       "      <td>60 months</td>\n",
       "      <td>15.27%</td>\n",
       "      <td>59.83</td>\n",
       "      <td>&lt; 1 year</td>\n",
       "      <td>RENT</td>\n",
       "      <td>30000.0</td>\n",
       "      <td>Source Verified</td>\n",
       "      <td>Dec-11</td>\n",
       "      <td>Charged Off</td>\n",
       "      <td>...</td>\n",
       "      <td>1.0</td>\n",
       "      <td>Individual</td>\n",
       "      <td>0.0</td>\n",
       "      <td>0.0</td>\n",
       "      <td>0.0</td>\n",
       "      <td>0.0</td>\n",
       "      <td>0.0</td>\n",
       "      <td>N</td>\n",
       "      <td>Cash</td>\n",
       "      <td>N</td>\n",
       "    </tr>\n",
       "  </tbody>\n",
       "</table>\n",
       "<p>2 rows × 49 columns</p>\n",
       "</div>"
      ],
      "text/plain": [
       "   loan_amnt        term int_rate  installment emp_length home_ownership  \\\n",
       "0     5000.0   36 months   10.65%       162.87  10+ years           RENT   \n",
       "1     2500.0   60 months   15.27%        59.83   < 1 year           RENT   \n",
       "\n",
       "   annual_inc verification_status issue_d  loan_status          ...           \\\n",
       "0     24000.0            Verified  Dec-11   Fully Paid          ...            \n",
       "1     30000.0     Source Verified  Dec-11  Charged Off          ...            \n",
       "\n",
       "  policy_code application_type acc_now_delinq chargeoff_within_12_mths  \\\n",
       "0         1.0       Individual            0.0                      0.0   \n",
       "1         1.0       Individual            0.0                      0.0   \n",
       "\n",
       "  delinq_amnt  pub_rec_bankruptcies  tax_liens hardship_flag  \\\n",
       "0         0.0                   0.0        0.0             N   \n",
       "1         0.0                   0.0        0.0             N   \n",
       "\n",
       "   disbursement_method  debt_settlement_flag  \n",
       "0                 Cash                     N  \n",
       "1                 Cash                     N  \n",
       "\n",
       "[2 rows x 49 columns]"
      ]
     },
     "execution_count": 14,
     "metadata": {},
     "output_type": "execute_result"
    }
   ],
   "source": [
    "#We drop the columns enumerated in the cell above.\n",
    "loan_data=loan_data.drop(['id', 'member_id', 'funded_amnt', 'funded_amnt_inv', 'grade', 'sub_grade', 'emp_title'], axis =1)\n",
    "loan_data.head(2)"
   ]
  },
  {
   "cell_type": "markdown",
   "metadata": {},
   "source": [
    "# Second Set Of Features"
   ]
  },
  {
   "cell_type": "markdown",
   "metadata": {},
   "source": [
    "The next 13 features contain issue_d, this is data about the month the loan was funded, this means it leaks a future information, we need to remove it.\n",
    "Now, the reason for zip_code inclusion in the prediction features: I'm borrowing an idea from the Stanford project report - they reported using the \n",
    "zip_code to join this census data \"Median House- hold Income and Mean Household Income [2006-2010]\". Here's a direct quote from the report explaining \n",
    "the use of census data: \"... research like \"The sensitivity of the loss given default rate to systematic risk\" [4] has shown the link- age between \n",
    "default rate and macroeconomic factors, so we have decided to add in census data, with info like regional median income, to train our models on a \n",
    "more holistic set of features.\"\n",
    "\n",
    "I will not join the census data to our loans data, instead will use just the zip_code to achieve the same results.\n",
    "\n",
    "Also, I will start off with just the columns we used on Dataquest, which exclude 'last_fico_range_high' I mentioned earlier \n",
    "and the 'zip_code'. And, later include these fields."
   ]
  },
  {
   "cell_type": "code",
   "execution_count": 15,
   "metadata": {},
   "outputs": [
    {
     "data": {
      "text/html": [
       "<div>\n",
       "<style scoped>\n",
       "    .dataframe tbody tr th:only-of-type {\n",
       "        vertical-align: middle;\n",
       "    }\n",
       "\n",
       "    .dataframe tbody tr th {\n",
       "        vertical-align: top;\n",
       "    }\n",
       "\n",
       "    .dataframe thead th {\n",
       "        text-align: right;\n",
       "    }\n",
       "</style>\n",
       "<table border=\"1\" class=\"dataframe\">\n",
       "  <thead>\n",
       "    <tr style=\"text-align: right;\">\n",
       "      <th></th>\n",
       "      <th></th>\n",
       "    </tr>\n",
       "    <tr>\n",
       "      <th>Variable</th>\n",
       "      <th>Description</th>\n",
       "    </tr>\n",
       "  </thead>\n",
       "  <tbody>\n",
       "    <tr>\n",
       "      <th>addr_state</th>\n",
       "      <th>The state provided by the borrower in the loan application</th>\n",
       "    </tr>\n",
       "    <tr>\n",
       "      <th>annual_inc</th>\n",
       "      <th>The self-reported annual income provided by the borrower during registration.</th>\n",
       "    </tr>\n",
       "    <tr>\n",
       "      <th>delinq_2yrs</th>\n",
       "      <th>The number of 30+ days past-due incidences of delinquency in the borrower's credit file for the past 2 years</th>\n",
       "    </tr>\n",
       "    <tr>\n",
       "      <th>dti</th>\n",
       "      <th>A ratio calculated using the borrowerâ€™s total monthly debt payments on the total debt obligations, excluding mortgage and the requested LC loan, divided by the borrowerâ€™s self-reported monthly income.</th>\n",
       "    </tr>\n",
       "    <tr>\n",
       "      <th>earliest_cr_line</th>\n",
       "      <th>The month the borrower's earliest reported credit line was opened</th>\n",
       "    </tr>\n",
       "    <tr>\n",
       "      <th>inq_last_6mths</th>\n",
       "      <th>The number of inquiries in past 6 months (excluding auto and mortgage inquiries)</th>\n",
       "    </tr>\n",
       "    <tr>\n",
       "      <th>issue_d</th>\n",
       "      <th>The month which the loan was funded</th>\n",
       "    </tr>\n",
       "    <tr>\n",
       "      <th>loan_status</th>\n",
       "      <th>Current status of the loan</th>\n",
       "    </tr>\n",
       "    <tr>\n",
       "      <th>purpose</th>\n",
       "      <th>A category provided by the borrower for the loan request.</th>\n",
       "    </tr>\n",
       "    <tr>\n",
       "      <th>pymnt_plan</th>\n",
       "      <th>Indicates if a payment plan has been put in place for the loan</th>\n",
       "    </tr>\n",
       "    <tr>\n",
       "      <th>title</th>\n",
       "      <th>The loan title provided by the borrower</th>\n",
       "    </tr>\n",
       "    <tr>\n",
       "      <th>verification_status</th>\n",
       "      <th>Indicates if income was verified by LC, not verified, or if the income source was verified</th>\n",
       "    </tr>\n",
       "    <tr>\n",
       "      <th>zip_code</th>\n",
       "      <th>The first 3 numbers of the zip code provided by the borrower in the loan application.</th>\n",
       "    </tr>\n",
       "  </tbody>\n",
       "</table>\n",
       "</div>"
      ],
      "text/plain": [
       "Empty DataFrame\n",
       "Columns: []\n",
       "Index: [(addr_state, The state provided by the borrower in the loan application), (annual_inc, The self-reported annual income provided by the borrower during registration.), (delinq_2yrs, The number of 30+ days past-due incidences of delinquency in the borrower's credit file for the past 2 years), (dti, A ratio calculated using the borrowerâ€™s total monthly debt payments on the total debt obligations, excluding mortgage and the requested LC loan, divided by the borrowerâ€™s self-reported monthly income.), (earliest_cr_line, The month the borrower's earliest reported credit line was opened), (inq_last_6mths, The number of inquiries in past 6 months (excluding auto and mortgage inquiries)), (issue_d, The month which the loan was funded), (loan_status, Current status of the loan), (purpose, A category provided by the borrower for the loan request. ), (pymnt_plan, Indicates if a payment plan has been put in place for the loan), (title, The loan title provided by the borrower), (verification_status, Indicates if income was verified by LC, not verified, or if the income source was verified), (zip_code, The first 3 numbers of the zip code provided by the borrower in the loan application.)]"
      ]
     },
     "execution_count": 15,
     "metadata": {},
     "output_type": "execute_result"
    }
   ],
   "source": [
    "second_13 = ['annual_inc','verification_status','issue_d','loan_status','pymnt_plan','purpose',\n",
    "             'title','zip_code','addr_state','dti','delinq_2yrs','earliest_cr_line', 'inq_last_6mths']\n",
    "\n",
    "df_table.loc[second_13]\n"
   ]
  },
  {
   "cell_type": "code",
   "execution_count": 16,
   "metadata": {},
   "outputs": [],
   "source": [
    "loan_data = loan_data.drop(['issue_d'], axis =1)"
   ]
  },
  {
   "cell_type": "markdown",
   "metadata": {},
   "source": [
    "# Third Set Of Features"
   ]
  },
  {
   "cell_type": "markdown",
   "metadata": {},
   "source": [
    "The following 5 variables are all about the future, they inform us about how the repayment is going, out_prncp, out_prncp_inv, total_pymnt, total_pymnt_inv, total_rec_prncp. We need to remove them from our model. The total_rec_int is about the interest received to date (meaning the loan has been approved) and total_rec_late_fee is about the interest that are late. These 2 variables need to be removed from the dataset."
   ]
  },
  {
   "cell_type": "code",
   "execution_count": 17,
   "metadata": {},
   "outputs": [
    {
     "data": {
      "text/plain": [
       "48"
      ]
     },
     "execution_count": 17,
     "metadata": {},
     "output_type": "execute_result"
    }
   ],
   "source": [
    "third_13 = ['open_acc', 'pub_rec', 'revol_bal','revol_util','total_acc', 'initial_list_status','out_prncp',\n",
    "           'out_prncp_inv','total_pymnt','total_pymnt_inv','total_rec_prncp','total_rec_int', 'total_rec_late_fee']\n",
    "df_table.loc[third_13]\n",
    "# Let's see number of columns we now have:\n",
    "\n",
    "loan_data.shape[1]"
   ]
  },
  {
   "cell_type": "code",
   "execution_count": 18,
   "metadata": {},
   "outputs": [],
   "source": [
    "loan_data = loan_data.drop(['out_prncp', 'out_prncp_inv', 'total_pymnt', 'total_pymnt_inv','total_rec_prncp', 'total_rec_int', 'total_rec_late_fee'], axis =1)"
   ]
  },
  {
   "cell_type": "markdown",
   "metadata": {},
   "source": [
    "# Fourth Set Of Features"
   ]
  },
  {
   "cell_type": "markdown",
   "metadata": {},
   "source": [
    "Finally, the last set of 13 features contain recoveries and collection_recovery_fee which are both leak from the future about the loan. And last_pymnt_d and last_pmyny_amnt are about the end of repayment, which means we cannot know that in advance."
   ]
  },
  {
   "cell_type": "code",
   "execution_count": 19,
   "metadata": {},
   "outputs": [
    {
     "data": {
      "text/html": [
       "<div>\n",
       "<style scoped>\n",
       "    .dataframe tbody tr th:only-of-type {\n",
       "        vertical-align: middle;\n",
       "    }\n",
       "\n",
       "    .dataframe tbody tr th {\n",
       "        vertical-align: top;\n",
       "    }\n",
       "\n",
       "    .dataframe thead th {\n",
       "        text-align: right;\n",
       "    }\n",
       "</style>\n",
       "<table border=\"1\" class=\"dataframe\">\n",
       "  <thead>\n",
       "    <tr style=\"text-align: right;\">\n",
       "      <th></th>\n",
       "      <th></th>\n",
       "    </tr>\n",
       "    <tr>\n",
       "      <th>Variable</th>\n",
       "      <th>Description</th>\n",
       "    </tr>\n",
       "  </thead>\n",
       "  <tbody>\n",
       "    <tr>\n",
       "      <th>acc_now_delinq</th>\n",
       "      <th>The number of accounts on which the borrower is now delinquent.</th>\n",
       "    </tr>\n",
       "    <tr>\n",
       "      <th>application_type</th>\n",
       "      <th>Indicates whether the loan is an individual application or a joint application with two co-borrowers</th>\n",
       "    </tr>\n",
       "    <tr>\n",
       "      <th>chargeoff_within_12_mths</th>\n",
       "      <th>Number of charge-offs within 12 months</th>\n",
       "    </tr>\n",
       "    <tr>\n",
       "      <th>collection_recovery_fee</th>\n",
       "      <th>post charge off collection fee</th>\n",
       "    </tr>\n",
       "    <tr>\n",
       "      <th>collections_12_mths_ex_med</th>\n",
       "      <th>Number of collections in 12 months excluding medical collections</th>\n",
       "    </tr>\n",
       "    <tr>\n",
       "      <th>delinq_amnt</th>\n",
       "      <th>The past-due amount owed for the accounts on which the borrower is now delinquent.</th>\n",
       "    </tr>\n",
       "    <tr>\n",
       "      <th>last_credit_pull_d</th>\n",
       "      <th>The most recent month LC pulled credit for this loan</th>\n",
       "    </tr>\n",
       "    <tr>\n",
       "      <th>last_pymnt_amnt</th>\n",
       "      <th>Last total payment amount received</th>\n",
       "    </tr>\n",
       "    <tr>\n",
       "      <th>last_pymnt_d</th>\n",
       "      <th>Last month payment was received</th>\n",
       "    </tr>\n",
       "    <tr>\n",
       "      <th>policy_code</th>\n",
       "      <th>publicly available policy_code=1\\nnew products not publicly available policy_code=2</th>\n",
       "    </tr>\n",
       "    <tr>\n",
       "      <th>pub_rec_bankruptcies</th>\n",
       "      <th>Number of public record bankruptcies</th>\n",
       "    </tr>\n",
       "    <tr>\n",
       "      <th>recoveries</th>\n",
       "      <th>post charge off gross recovery</th>\n",
       "    </tr>\n",
       "    <tr>\n",
       "      <th>tax_liens</th>\n",
       "      <th>Number of tax liens</th>\n",
       "    </tr>\n",
       "  </tbody>\n",
       "</table>\n",
       "</div>"
      ],
      "text/plain": [
       "Empty DataFrame\n",
       "Columns: []\n",
       "Index: [(acc_now_delinq, The number of accounts on which the borrower is now delinquent.), (application_type, Indicates whether the loan is an individual application or a joint application with two co-borrowers), (chargeoff_within_12_mths, Number of charge-offs within 12 months), (collection_recovery_fee, post charge off collection fee), (collections_12_mths_ex_med, Number of collections in 12 months excluding medical collections), (delinq_amnt, The past-due amount owed for the accounts on which the borrower is now delinquent.), (last_credit_pull_d, The most recent month LC pulled credit for this loan), (last_pymnt_amnt, Last total payment amount received), (last_pymnt_d, Last month payment was received), (policy_code, publicly available policy_code=1\n",
       "new products not publicly available policy_code=2), (pub_rec_bankruptcies, Number of public record bankruptcies), (recoveries, post charge off gross recovery), (tax_liens, Number of tax liens)]"
      ]
     },
     "execution_count": 19,
     "metadata": {},
     "output_type": "execute_result"
    }
   ],
   "source": [
    "fourth_13 = ['recoveries','collection_recovery_fee', 'last_pymnt_d', 'last_pymnt_amnt','last_credit_pull_d',\n",
    "            'collections_12_mths_ex_med','policy_code','application_type','acc_now_delinq','chargeoff_within_12_mths',\n",
    "           'delinq_amnt','pub_rec_bankruptcies','tax_liens']\n",
    "df_table.loc[fourth_13]"
   ]
  },
  {
   "cell_type": "code",
   "execution_count": 20,
   "metadata": {},
   "outputs": [],
   "source": [
    "loan_data = loan_data.drop(['recoveries', 'collection_recovery_fee', \n",
    "                              'last_pymnt_d', 'last_pymnt_amnt'], axis =1)"
   ]
  },
  {
   "cell_type": "code",
   "execution_count": 21,
   "metadata": {},
   "outputs": [
    {
     "data": {
      "text/plain": [
       "(42542, 37)"
      ]
     },
     "execution_count": 21,
     "metadata": {},
     "output_type": "execute_result"
    }
   ],
   "source": [
    "loan_data.shape"
   ]
  },
  {
   "cell_type": "markdown",
   "metadata": {},
   "source": [
    "# Target Column"
   ]
  },
  {
   "cell_type": "markdown",
   "metadata": {},
   "source": [
    "I will use the 'loan_status' field since it is the only column that directly describes if a loan was paid off on time, had delayed payments, or was defaulted on the borrower.\n",
    "The target column is a critical part when fitting this type of data to machine learning algorithms because it tries to make prediction based on the outcome that we want. In this particular case, we want to predict the loan status (loan_status) which can take many values in total."
   ]
  },
  {
   "cell_type": "markdown",
   "metadata": {},
   "source": [
    "Let's explore the different values in 'loan_status' column:"
   ]
  },
  {
   "cell_type": "code",
   "execution_count": 22,
   "metadata": {},
   "outputs": [
    {
     "data": {
      "text/plain": [
       "Fully Paid                                             34116\n",
       "Charged Off                                             5670\n",
       "Does not meet the credit policy. Status:Fully Paid      1988\n",
       "Does not meet the credit policy. Status:Charged Off      761\n",
       "Name: loan_status, dtype: int64"
      ]
     },
     "execution_count": 22,
     "metadata": {},
     "output_type": "execute_result"
    }
   ],
   "source": [
    "loan_data['loan_status'].value_counts()"
   ]
  },
  {
   "cell_type": "code",
   "execution_count": 23,
   "metadata": {},
   "outputs": [
    {
     "data": {
      "image/png": "[encoded data removed]",
      "text/plain": [
       "<matplotlib.figure.Figure at 0x17d1abbadd8>"
      ]
     },
     "metadata": {},
     "output_type": "display_data"
    }
   ],
   "source": [
    "loan_data['loan_status'].value_counts().plot(kind='barh',color='orange',title='Possible Loan Status',alpha=0.75)\n",
    "plt.show()"
   ]
  },
  {
   "cell_type": "markdown",
   "metadata": {},
   "source": [
    "We have 4 possibility for loan_status and only 2 values are important in our model's binary classification; fully paid and charged off. These 2 values indicate the result of the loan outcome. We will remove the other possibilities and avoid \"translating\" those values into the binary possibility (fully paid or charged off)."
   ]
  },
  {
   "cell_type": "code",
   "execution_count": 24,
   "metadata": {},
   "outputs": [],
   "source": [
    "loan_data=loan_data[(loan_data['loan_status']==\"Fully Paid\") | (loan_data['loan_status'] == \"Charged Off\")]"
   ]
  },
  {
   "cell_type": "code",
   "execution_count": 25,
   "metadata": {},
   "outputs": [
    {
     "data": {
      "image/png": "[encoded data removed]",
      "text/plain": [
       "<matplotlib.figure.Figure at 0x17d1c85d080>"
      ]
     },
     "metadata": {},
     "output_type": "display_data"
    }
   ],
   "source": [
    "loan_data['loan_status'].value_counts().plot(kind='barh',color='blue',title='Simplified Possible Loan Status',alpha=0.55)\n",
    "plt.show()"
   ]
  },
  {
   "cell_type": "markdown",
   "metadata": {},
   "source": [
    "We need to change the object value to numerical for the algorithm processing. Let's use a dictionary."
   ]
  },
  {
   "cell_type": "markdown",
   "metadata": {},
   "source": [
    "# CLASSIFICATION"
   ]
  },
  {
   "cell_type": "markdown",
   "metadata": {},
   "source": [
    "The goal here is to build a machine learning model that will predict who will pay off loan on time and who wil not. This will help avoid investing on risky borrower."
   ]
  },
  {
   "cell_type": "code",
   "execution_count": 26,
   "metadata": {},
   "outputs": [],
   "source": [
    "status_replace={\n",
    "    \"loan_status\":{\n",
    "        \"Fully Paid\":1,\n",
    "        \"Charged Off\":0,\n",
    "    }\n",
    "}\n",
    "\n",
    "loan_data=loan_data.replace(status_replace)"
   ]
  },
  {
   "cell_type": "code",
   "execution_count": 27,
   "metadata": {},
   "outputs": [
    {
     "data": {
      "text/plain": [
       "1    34116\n",
       "0     5670\n",
       "Name: loan_status, dtype: int64"
      ]
     },
     "execution_count": 27,
     "metadata": {},
     "output_type": "execute_result"
    }
   ],
   "source": [
    "loan_data['loan_status'].value_counts()"
   ]
  },
  {
   "cell_type": "code",
   "execution_count": 28,
   "metadata": {},
   "outputs": [
    {
     "data": {
      "text/plain": [
       "(39786, 37)"
      ]
     },
     "execution_count": 28,
     "metadata": {},
     "output_type": "execute_result"
    }
   ],
   "source": [
    "loan_data.shape"
   ]
  },
  {
   "cell_type": "markdown",
   "metadata": {},
   "source": [
    "# Final Data Cleaning"
   ]
  },
  {
   "cell_type": "markdown",
   "metadata": {},
   "source": [
    "Single value columns are not information that help our model, it does not provide any insight into the likelihood of default or repayment, and will be removed from the dataset."
   ]
  },
  {
   "cell_type": "code",
   "execution_count": 29,
   "metadata": {},
   "outputs": [
    {
     "data": {
      "text/plain": [
       "['pymnt_plan',\n",
       " 'initial_list_status',\n",
       " 'collections_12_mths_ex_med',\n",
       " 'policy_code',\n",
       " 'application_type',\n",
       " 'acc_now_delinq',\n",
       " 'chargeoff_within_12_mths',\n",
       " 'delinq_amnt',\n",
       " 'tax_liens',\n",
       " 'hardship_flag',\n",
       " 'disbursement_method']"
      ]
     },
     "execution_count": 29,
     "metadata": {},
     "output_type": "execute_result"
    }
   ],
   "source": [
    "orig_columns=loan_data.columns\n",
    "drop_columns=[]\n",
    "for col in orig_columns:\n",
    "    col_series=loan_data[col].dropna().unique()\n",
    "    if len(col_series)==1:\n",
    "        drop_columns.append(col)\n",
    "loan_data=loan_data.drop(drop_columns,axis=1)\n",
    "drop_columns"
   ]
  },
  {
   "cell_type": "code",
   "execution_count": 30,
   "metadata": {},
   "outputs": [
    {
     "data": {
      "text/plain": [
       "(39786, 26)"
      ]
     },
     "execution_count": 30,
     "metadata": {},
     "output_type": "execute_result"
    }
   ],
   "source": [
    "loan_data.shape"
   ]
  },
  {
   "cell_type": "code",
   "execution_count": 31,
   "metadata": {},
   "outputs": [
    {
     "name": "stdout",
     "output_type": "stream",
     "text": [
      " 36 months    29096\n",
      " 60 months    10690\n",
      "Name: term, dtype: int64\n",
      "\n",
      "Not Verified       16926\n",
      "Verified           12844\n",
      "Source Verified    10016\n",
      "Name: verification_status, dtype: int64\n",
      "\n",
      "1    34116\n",
      "0     5670\n",
      "Name: loan_status, dtype: int64\n",
      "\n",
      "N    39636\n",
      "Y      150\n",
      "Name: debt_settlement_flag, dtype: int64\n",
      "\n"
     ]
    }
   ],
   "source": [
    "for col in loan_data.columns:\n",
    "    if (len(loan_data[col].unique()) < 4):\n",
    "        print(loan_data[col].value_counts())\n",
    "        print()"
   ]
  },
  {
   "cell_type": "markdown",
   "metadata": {},
   "source": [
    "Notice that the pymnt_plan field has two unique values but the one value(y) has only 1 frequency and so it is safe to consider as a single value column."
   ]
  },
  {
   "cell_type": "markdown",
   "metadata": {},
   "source": [
    "We were able to remove 11 columns and we are left with 23 features to work with."
   ]
  },
  {
   "cell_type": "markdown",
   "metadata": {},
   "source": [
    "# III. Methodology"
   ]
  },
  {
   "cell_type": "markdown",
   "metadata": {},
   "source": [
    "# Preparing The Features: Dealing With Missing Values"
   ]
  },
  {
   "cell_type": "markdown",
   "metadata": {},
   "source": [
    "We start with the filtered loan_data.csv from the previous analysis. Do we have many Null values in the file loan_data? We will look at how we can handle these values. We need to deal with non-numeric value and null values, because scikit-learn assume that the values are numeric and filled, otherwise it could throw an error or miss evaluate the data."
   ]
  },
  {
   "cell_type": "code",
   "execution_count": 32,
   "metadata": {},
   "outputs": [
    {
     "data": {
      "text/plain": [
       "loan_amnt                  0\n",
       "term                       0\n",
       "int_rate                   0\n",
       "installment                0\n",
       "emp_length              1078\n",
       "home_ownership             0\n",
       "annual_inc                 0\n",
       "verification_status        0\n",
       "loan_status                0\n",
       "purpose                    0\n",
       "title                     11\n",
       "zip_code                   0\n",
       "addr_state                 0\n",
       "dti                        0\n",
       "delinq_2yrs                0\n",
       "earliest_cr_line           0\n",
       "inq_last_6mths             0\n",
       "open_acc                   0\n",
       "pub_rec                    0\n",
       "revol_bal                  0\n",
       "revol_util                50\n",
       "total_acc                  0\n",
       "last_fico_range_high       0\n",
       "last_credit_pull_d         2\n",
       "pub_rec_bankruptcies     697\n",
       "debt_settlement_flag       0\n",
       "dtype: int64"
      ]
     },
     "execution_count": 32,
     "metadata": {},
     "output_type": "execute_result"
    }
   ],
   "source": [
    "null_counts=loan_data.isnull().sum()\n",
    "null_counts"
   ]
  },
  {
   "cell_type": "markdown",
   "metadata": {},
   "source": [
    "We have 5 columns with missing values: 2 with last_credit_pull_d, 11 with title, 50 with revol_util,emp_length with 1078 and 697 with pub_rec_bankruptcies . Instead of removing the columns as we did earlier, we will remove the rows. We consider rows as incomplete (in a real life setting, we would reject the application simply because it is not complete)."
   ]
  },
  {
   "cell_type": "code",
   "execution_count": 33,
   "metadata": {},
   "outputs": [],
   "source": [
    "loan_data=loan_data.drop(\"pub_rec_bankruptcies\",axis=1)\n",
    "loan_data=loan_data.dropna(axis=0)"
   ]
  },
  {
   "cell_type": "code",
   "execution_count": 34,
   "metadata": {},
   "outputs": [
    {
     "data": {
      "text/plain": [
       "(38649, 25)"
      ]
     },
     "execution_count": 34,
     "metadata": {},
     "output_type": "execute_result"
    }
   ],
   "source": [
    "loan_data.shape"
   ]
  },
  {
   "cell_type": "markdown",
   "metadata": {},
   "source": [
    "# Handling Non-Numeric Data Types"
   ]
  },
  {
   "cell_type": "markdown",
   "metadata": {},
   "source": [
    "The data types of columns are important to look at and we will need to deal with non-numeric values in order to encode and use them in our machine learning algorithms."
   ]
  },
  {
   "cell_type": "code",
   "execution_count": 35,
   "metadata": {},
   "outputs": [
    {
     "name": "stdout",
     "output_type": "stream",
     "text": [
      "object     13\n",
      "float64    11\n",
      "int64       1\n",
      "dtype: int64\n"
     ]
    }
   ],
   "source": [
    "print(loan_data.dtypes.value_counts())"
   ]
  },
  {
   "cell_type": "markdown",
   "metadata": {},
   "source": [
    "We have 12 objects that need to be addressed, let's explore them."
   ]
  },
  {
   "cell_type": "code",
   "execution_count": 36,
   "metadata": {},
   "outputs": [],
   "source": [
    "object_columns_df=loan_data.select_dtypes(include=[\"object\"])"
   ]
  },
  {
   "cell_type": "code",
   "execution_count": 37,
   "metadata": {},
   "outputs": [
    {
     "name": "stdout",
     "output_type": "stream",
     "text": [
      "term                      36 months\n",
      "int_rate                     10.65%\n",
      "emp_length                10+ years\n",
      "home_ownership                 RENT\n",
      "verification_status        Verified\n",
      "purpose                 credit_card\n",
      "title                      Computer\n",
      "zip_code                      860xx\n",
      "addr_state                       AZ\n",
      "earliest_cr_line             Jan-85\n",
      "revol_util                   83.70%\n",
      "last_credit_pull_d           May-18\n",
      "debt_settlement_flag              N\n",
      "Name: 0, dtype: object\n"
     ]
    },
    {
     "data": {
      "text/html": [
       "<div>\n",
       "<style scoped>\n",
       "    .dataframe tbody tr th:only-of-type {\n",
       "        vertical-align: middle;\n",
       "    }\n",
       "\n",
       "    .dataframe tbody tr th {\n",
       "        vertical-align: top;\n",
       "    }\n",
       "\n",
       "    .dataframe thead th {\n",
       "        text-align: right;\n",
       "    }\n",
       "</style>\n",
       "<table border=\"1\" class=\"dataframe\">\n",
       "  <thead>\n",
       "    <tr style=\"text-align: right;\">\n",
       "      <th></th>\n",
       "      <th>loan_amnt</th>\n",
       "      <th>term</th>\n",
       "      <th>int_rate</th>\n",
       "      <th>installment</th>\n",
       "      <th>emp_length</th>\n",
       "      <th>home_ownership</th>\n",
       "      <th>annual_inc</th>\n",
       "      <th>verification_status</th>\n",
       "      <th>loan_status</th>\n",
       "      <th>purpose</th>\n",
       "      <th>...</th>\n",
       "      <th>earliest_cr_line</th>\n",
       "      <th>inq_last_6mths</th>\n",
       "      <th>open_acc</th>\n",
       "      <th>pub_rec</th>\n",
       "      <th>revol_bal</th>\n",
       "      <th>revol_util</th>\n",
       "      <th>total_acc</th>\n",
       "      <th>last_fico_range_high</th>\n",
       "      <th>last_credit_pull_d</th>\n",
       "      <th>debt_settlement_flag</th>\n",
       "    </tr>\n",
       "  </thead>\n",
       "  <tbody>\n",
       "    <tr>\n",
       "      <th>0</th>\n",
       "      <td>5000.0</td>\n",
       "      <td>36 months</td>\n",
       "      <td>10.65%</td>\n",
       "      <td>162.87</td>\n",
       "      <td>10+ years</td>\n",
       "      <td>RENT</td>\n",
       "      <td>24000.0</td>\n",
       "      <td>Verified</td>\n",
       "      <td>1</td>\n",
       "      <td>credit_card</td>\n",
       "      <td>...</td>\n",
       "      <td>Jan-85</td>\n",
       "      <td>1.0</td>\n",
       "      <td>3.0</td>\n",
       "      <td>0.0</td>\n",
       "      <td>13648.0</td>\n",
       "      <td>83.70%</td>\n",
       "      <td>9.0</td>\n",
       "      <td>744.0</td>\n",
       "      <td>May-18</td>\n",
       "      <td>N</td>\n",
       "    </tr>\n",
       "    <tr>\n",
       "      <th>1</th>\n",
       "      <td>2500.0</td>\n",
       "      <td>60 months</td>\n",
       "      <td>15.27%</td>\n",
       "      <td>59.83</td>\n",
       "      <td>&lt; 1 year</td>\n",
       "      <td>RENT</td>\n",
       "      <td>30000.0</td>\n",
       "      <td>Source Verified</td>\n",
       "      <td>0</td>\n",
       "      <td>car</td>\n",
       "      <td>...</td>\n",
       "      <td>Apr-99</td>\n",
       "      <td>5.0</td>\n",
       "      <td>3.0</td>\n",
       "      <td>0.0</td>\n",
       "      <td>1687.0</td>\n",
       "      <td>9.40%</td>\n",
       "      <td>4.0</td>\n",
       "      <td>499.0</td>\n",
       "      <td>Oct-16</td>\n",
       "      <td>N</td>\n",
       "    </tr>\n",
       "  </tbody>\n",
       "</table>\n",
       "<p>2 rows × 25 columns</p>\n",
       "</div>"
      ],
      "text/plain": [
       "   loan_amnt        term int_rate  installment emp_length home_ownership  \\\n",
       "0     5000.0   36 months   10.65%       162.87  10+ years           RENT   \n",
       "1     2500.0   60 months   15.27%        59.83   < 1 year           RENT   \n",
       "\n",
       "   annual_inc verification_status  loan_status      purpose  \\\n",
       "0     24000.0            Verified            1  credit_card   \n",
       "1     30000.0     Source Verified            0          car   \n",
       "\n",
       "           ...          earliest_cr_line inq_last_6mths open_acc  pub_rec  \\\n",
       "0          ...                    Jan-85            1.0      3.0      0.0   \n",
       "1          ...                    Apr-99            5.0      3.0      0.0   \n",
       "\n",
       "   revol_bal revol_util  total_acc  last_fico_range_high  last_credit_pull_d  \\\n",
       "0    13648.0     83.70%        9.0                 744.0              May-18   \n",
       "1     1687.0      9.40%        4.0                 499.0              Oct-16   \n",
       "\n",
       "   debt_settlement_flag  \n",
       "0                     N  \n",
       "1                     N  \n",
       "\n",
       "[2 rows x 25 columns]"
      ]
     },
     "execution_count": 37,
     "metadata": {},
     "output_type": "execute_result"
    }
   ],
   "source": [
    "print(object_columns_df.iloc[0])\n",
    "loan_data.head(2)"
   ]
  },
  {
   "cell_type": "markdown",
   "metadata": {},
   "source": [
    "# Categorical Columns"
   ]
  },
  {
   "cell_type": "markdown",
   "metadata": {},
   "source": [
    "Some of the data seems categorical, this means that we might be able to change it into numerical. Let's count the number of occurences of each column."
   ]
  },
  {
   "cell_type": "markdown",
   "metadata": {},
   "source": [
    "term is either 36 or 60.\n",
    "\n",
    "emp_length is the \"Employment length in years. Possible values are between 0 and 10 where 0 means less than one year and 10 means ten or more years.\"\n",
    "\n",
    "home_ownership can only be 1 of 4 categorical data.\n",
    "\n",
    "verification_status \"Indicates if income was verified by (Lending Club), not verified, or if the income source was verified\". One of 2 choices.\n",
    "\n",
    "addr_state: \"The state provided by the borrower in the loan application\""
   ]
  },
  {
   "cell_type": "code",
   "execution_count": 38,
   "metadata": {},
   "outputs": [
    {
     "name": "stdout",
     "output_type": "stream",
     "text": [
      " 36 months    28234\n",
      " 60 months    10415\n",
      "Name: term, dtype: int64\n",
      " \n",
      "10+ years    8897\n",
      "< 1 year     4576\n",
      "2 years      4389\n",
      "3 years      4094\n",
      "4 years      3435\n",
      "5 years      3279\n",
      "1 year       3240\n",
      "6 years      2227\n",
      "7 years      1771\n",
      "8 years      1483\n",
      "9 years      1258\n",
      "Name: emp_length, dtype: int64\n",
      " \n",
      "RENT        18471\n",
      "MORTGAGE    17242\n",
      "OWN          2837\n",
      "OTHER          96\n",
      "NONE            3\n",
      "Name: home_ownership, dtype: int64\n",
      " \n",
      "Not Verified       16468\n",
      "Verified           12377\n",
      "Source Verified     9804\n",
      "Name: verification_status, dtype: int64\n",
      " \n",
      "CA    6907\n",
      "NY    3711\n",
      "FL    2779\n",
      "TX    2674\n",
      "NJ    1825\n",
      "IL    1487\n",
      "PA    1481\n",
      "VA    1378\n",
      "GA    1358\n",
      "MA    1313\n",
      "OH    1190\n",
      "MD    1034\n",
      "AZ     832\n",
      "WA     807\n",
      "CO     769\n",
      "NC     761\n",
      "CT     734\n",
      "MI     688\n",
      "MO     661\n",
      "MN     591\n",
      "NV     482\n",
      "SC     464\n",
      "WI     445\n",
      "OR     436\n",
      "AL     433\n",
      "LA     426\n",
      "KY     323\n",
      "OK     293\n",
      "KS     260\n",
      "UT     253\n",
      "AR     235\n",
      "DC     212\n",
      "RI     197\n",
      "NM     184\n",
      "HI     169\n",
      "WV     168\n",
      "NH     162\n",
      "DE     110\n",
      "WY      79\n",
      "MT      79\n",
      "AK      79\n",
      "SD      62\n",
      "VT      54\n",
      "MS      19\n",
      "TN      17\n",
      "IN       9\n",
      "ID       6\n",
      "IA       5\n",
      "NE       5\n",
      "ME       3\n",
      "Name: addr_state, dtype: int64\n",
      " \n",
      "N    38510\n",
      "Y      139\n",
      "Name: debt_settlement_flag, dtype: int64\n",
      " \n"
     ]
    }
   ],
   "source": [
    "columns=['term','emp_length','home_ownership','verification_status','addr_state','debt_settlement_flag']\n",
    "for col in columns:\n",
    "    print(loan_data[col].value_counts())\n",
    "    print(\" \")"
   ]
  },
  {
   "cell_type": "markdown",
   "metadata": {},
   "source": [
    "The previous four columns contain a couple categorical values, we will encode them as dummy variables for our model. We will remove the addr_state because if we were to encode all these variables, we would make our dataframe quite large and would slow the computation done by our machine learning algorithm.\n",
    "\n",
    "Let's now take a look at the next columns:\n",
    "\n",
    "purpose is \"a category provided by the borrower for the loan request\".\n",
    "\n",
    "title : \"The loan title provided by the borrower\""
   ]
  },
  {
   "cell_type": "code",
   "execution_count": 39,
   "metadata": {},
   "outputs": [
    {
     "name": "stdout",
     "output_type": "stream",
     "text": [
      "debt_consolidation    18262\n",
      "credit_card            5004\n",
      "other                  3824\n",
      "home_improvement       2884\n",
      "major_purchase         2109\n",
      "small_business         1783\n",
      "car                    1497\n",
      "wedding                 934\n",
      "medical                 668\n",
      "moving                  557\n",
      "house                   369\n",
      "vacation                351\n",
      "educational             312\n",
      "renewable_energy         95\n",
      "Name: purpose, dtype: int64\n",
      " \n",
      "Debt Consolidation                          2149\n",
      "Debt Consolidation Loan                     1695\n",
      "Personal Loan                                643\n",
      "Consolidation                                510\n",
      "debt consolidation                           489\n",
      "Credit Card Consolidation                    349\n",
      "Home Improvement                             347\n",
      "Debt consolidation                           324\n",
      "Small Business Loan                          317\n",
      "Credit Card Loan                             308\n",
      "Personal                                     297\n",
      "Consolidation Loan                           255\n",
      "Home Improvement Loan                        240\n",
      "personal loan                                224\n",
      "personal                                     207\n",
      "Wedding Loan                                 207\n",
      "Loan                                         207\n",
      "consolidation                                198\n",
      "Car Loan                                     197\n",
      "Other Loan                                   179\n",
      "Wedding                                      153\n",
      "Credit Card Payoff                           149\n",
      "Credit Card Refinance                        141\n",
      "Major Purchase Loan                          137\n",
      "Consolidate                                  126\n",
      "Medical                                      114\n",
      "Credit Card                                  114\n",
      "home improvement                             106\n",
      "Credit Cards                                  93\n",
      "My Loan                                       92\n",
      "                                            ... \n",
      "Excellent credit need funds for home imp       1\n",
      "land                                           1\n",
      "My Business Loan                               1\n",
      "Utv Loan                                       1\n",
      "new purchase                                   1\n",
      "Fund a Combat Veteran                          1\n",
      "Debt Down Loan                                 1\n",
      "Adios American Express!                        1\n",
      "My Home Improvement                            1\n",
      "no sweat debt loan                             1\n",
      "Cokie's DebtCon                                1\n",
      "College living expenses and Roth               1\n",
      "blizzard                                       1\n",
      "Trip for family travel to India                1\n",
      "DEBT CWF                                       1\n",
      "Final Wrap Up                                  1\n",
      "Payoff off all my bills                        1\n",
      "Our Debt                                       1\n",
      "E-Man's loan                                   1\n",
      "Home Improovement Loan                         1\n",
      "Existing Business Growth Loan                  1\n",
      "Freedom for my Evil Target Credit Card         1\n",
      "Auto Loan Difference                           1\n",
      "Getting Mom's Beast Off My Back                1\n",
      "kdbest                                         1\n",
      "one hole to another                            1\n",
      "citi visa/ paioner loan                        1\n",
      "4-Wheeler & credit refinance                   1\n",
      "A new beginning for my financial future        1\n",
      "Pay off all credit debt                        1\n",
      "Name: title, Length: 19134, dtype: int64\n"
     ]
    }
   ],
   "source": [
    "print(loan_data[\"purpose\"].value_counts())\n",
    "print(\" \")\n",
    "print(loan_data[\"title\"].value_counts())"
   ]
  },
  {
   "cell_type": "markdown",
   "metadata": {},
   "source": [
    "The 2 columns seem to have similar information. We will keep the purpose column as the title column is probably added by the customer and can vary. The purpose is streamlined in comparison with the title containing a lot of the same just under a different form (debt consolidation written in different ways).\n",
    "\n",
    "The next values are dates.\n",
    "\n",
    "earliest_cr_line: \"The month the borrower's earliest reported credit line was opened\"\n",
    "\n",
    "last_credit_pull_d: \"The most recent month LC pulled credit for this loan\"\n",
    "\n",
    "These values are a already numerical, but mean something else.\n",
    "\n",
    "int_rate is the percentage of the interest, that way we know that it is x%.\n",
    "\n",
    "revol_util: \"Revolving line utilization rate, or the amount of credit the borrower is using relative to all available revolving credit.\"\n",
    "\n",
    "The reason the loan was asked for.\n",
    "\n",
    "We need to encode categorical value with dummy variables."
   ]
  },
  {
   "cell_type": "code",
   "execution_count": 40,
   "metadata": {},
   "outputs": [],
   "source": [
    "mapping_dict={\n",
    "    \"emp_length\":{\n",
    "         \"10+ years\": 10,\n",
    "        \"9 years\": 9,\n",
    "        \"8 years\": 8,\n",
    "        \"7 years\": 7,\n",
    "        \"6 years\": 6,\n",
    "        \"5 years\": 5,\n",
    "        \"4 years\": 4,\n",
    "        \"3 years\": 3,\n",
    "        \"2 years\": 2,\n",
    "        \"1 year\": 1,\n",
    "        \"< 1 year\": 0,\n",
    "        \"n/a\": 0\n",
    "    }\n",
    "}\n",
    "#dropping one more column debt_settlement_flag\n",
    "loan_data=loan_data.drop([\"last_credit_pull_d\", \"earliest_cr_line\", \"addr_state\", \"title\"],axis=1)\n",
    "loan_data[\"int_rate\"]=loan_data[\"int_rate\"].str.rstrip(\"%\").astype(\"float\")\n",
    "loan_data[\"revol_util\"]=loan_data[\"revol_util\"].str.rstrip(\"%\").astype(\"float\")\n",
    "loan_data=loan_data.replace(mapping_dict)"
   ]
  },
  {
   "cell_type": "markdown",
   "metadata": {},
   "source": [
    "Now, let's encode the previous variables"
   ]
  },
  {
   "cell_type": "code",
   "execution_count": 41,
   "metadata": {},
   "outputs": [],
   "source": [
    "categorical_columns = [\"home_ownership\", \"verification_status\", \"purpose\", \"term\",\"debt_settlement_flag\"]\n",
    "dummy_df=pd.get_dummies(loan_data[categorical_columns])\n",
    "loan_data=pd.concat([loan_data,dummy_df],axis=1)\n",
    "loan_data=loan_data.drop(categorical_columns,axis=1)"
   ]
  },
  {
   "cell_type": "code",
   "execution_count": 42,
   "metadata": {},
   "outputs": [
    {
     "data": {
      "text/html": [
       "<div>\n",
       "<style scoped>\n",
       "    .dataframe tbody tr th:only-of-type {\n",
       "        vertical-align: middle;\n",
       "    }\n",
       "\n",
       "    .dataframe tbody tr th {\n",
       "        vertical-align: top;\n",
       "    }\n",
       "\n",
       "    .dataframe thead th {\n",
       "        text-align: right;\n",
       "    }\n",
       "</style>\n",
       "<table border=\"1\" class=\"dataframe\">\n",
       "  <thead>\n",
       "    <tr style=\"text-align: right;\">\n",
       "      <th></th>\n",
       "      <th>loan_amnt</th>\n",
       "      <th>int_rate</th>\n",
       "      <th>installment</th>\n",
       "      <th>emp_length</th>\n",
       "      <th>annual_inc</th>\n",
       "      <th>loan_status</th>\n",
       "      <th>zip_code</th>\n",
       "      <th>dti</th>\n",
       "      <th>delinq_2yrs</th>\n",
       "      <th>inq_last_6mths</th>\n",
       "      <th>...</th>\n",
       "      <th>purpose_moving</th>\n",
       "      <th>purpose_other</th>\n",
       "      <th>purpose_renewable_energy</th>\n",
       "      <th>purpose_small_business</th>\n",
       "      <th>purpose_vacation</th>\n",
       "      <th>purpose_wedding</th>\n",
       "      <th>term_ 36 months</th>\n",
       "      <th>term_ 60 months</th>\n",
       "      <th>debt_settlement_flag_N</th>\n",
       "      <th>debt_settlement_flag_Y</th>\n",
       "    </tr>\n",
       "  </thead>\n",
       "  <tbody>\n",
       "    <tr>\n",
       "      <th>0</th>\n",
       "      <td>5000.0</td>\n",
       "      <td>10.65</td>\n",
       "      <td>162.87</td>\n",
       "      <td>10</td>\n",
       "      <td>24000.0</td>\n",
       "      <td>1</td>\n",
       "      <td>860xx</td>\n",
       "      <td>27.65</td>\n",
       "      <td>0.0</td>\n",
       "      <td>1.0</td>\n",
       "      <td>...</td>\n",
       "      <td>0</td>\n",
       "      <td>0</td>\n",
       "      <td>0</td>\n",
       "      <td>0</td>\n",
       "      <td>0</td>\n",
       "      <td>0</td>\n",
       "      <td>1</td>\n",
       "      <td>0</td>\n",
       "      <td>1</td>\n",
       "      <td>0</td>\n",
       "    </tr>\n",
       "    <tr>\n",
       "      <th>1</th>\n",
       "      <td>2500.0</td>\n",
       "      <td>15.27</td>\n",
       "      <td>59.83</td>\n",
       "      <td>0</td>\n",
       "      <td>30000.0</td>\n",
       "      <td>0</td>\n",
       "      <td>309xx</td>\n",
       "      <td>1.00</td>\n",
       "      <td>0.0</td>\n",
       "      <td>5.0</td>\n",
       "      <td>...</td>\n",
       "      <td>0</td>\n",
       "      <td>0</td>\n",
       "      <td>0</td>\n",
       "      <td>0</td>\n",
       "      <td>0</td>\n",
       "      <td>0</td>\n",
       "      <td>0</td>\n",
       "      <td>1</td>\n",
       "      <td>1</td>\n",
       "      <td>0</td>\n",
       "    </tr>\n",
       "  </tbody>\n",
       "</table>\n",
       "<p>2 rows × 42 columns</p>\n",
       "</div>"
      ],
      "text/plain": [
       "   loan_amnt  int_rate  installment  emp_length  annual_inc  loan_status  \\\n",
       "0     5000.0     10.65       162.87          10     24000.0            1   \n",
       "1     2500.0     15.27        59.83           0     30000.0            0   \n",
       "\n",
       "  zip_code    dti  delinq_2yrs  inq_last_6mths           ...            \\\n",
       "0    860xx  27.65          0.0             1.0           ...             \n",
       "1    309xx   1.00          0.0             5.0           ...             \n",
       "\n",
       "   purpose_moving  purpose_other  purpose_renewable_energy  \\\n",
       "0               0              0                         0   \n",
       "1               0              0                         0   \n",
       "\n",
       "   purpose_small_business  purpose_vacation  purpose_wedding  term_ 36 months  \\\n",
       "0                       0                 0                0                1   \n",
       "1                       0                 0                0                0   \n",
       "\n",
       "   term_ 60 months  debt_settlement_flag_N  debt_settlement_flag_Y  \n",
       "0                0                       1                       0  \n",
       "1                1                       1                       0  \n",
       "\n",
       "[2 rows x 42 columns]"
      ]
     },
     "execution_count": 42,
     "metadata": {},
     "output_type": "execute_result"
    }
   ],
   "source": [
    "loan_data.head(2)"
   ]
  },
  {
   "cell_type": "code",
   "execution_count": 43,
   "metadata": {},
   "outputs": [
    {
     "data": {
      "text/plain": [
       "array(['860xx', '309xx', '606xx', '917xx', '972xx', '852xx', '280xx',\n",
       "       '900xx', '958xx', '774xx', '853xx', '913xx', '245xx', '951xx',\n",
       "       '641xx', '921xx', '067xx', '890xx', '770xx', '335xx', '799xx',\n",
       "       '605xx', '103xx', '150xx', '326xx', '564xx', '141xx', '080xx',\n",
       "       '330xx', '974xx', '934xx', '405xx', '946xx', '445xx', '850xx',\n",
       "       '604xx', '292xx', '088xx', '180xx', '029xx', '700xx', '010xx',\n",
       "       '441xx', '104xx', '061xx', '616xx', '947xx', '914xx', '765xx',\n",
       "       '980xx', '017xx', '752xx', '787xx', '077xx', '540xx', '225xx',\n",
       "       '440xx', '437xx', '559xx', '912xx', '325xx', '300xx', '923xx',\n",
       "       '352xx', '013xx', '146xx', '074xx', '786xx', '937xx', '331xx',\n",
       "       '115xx', '191xx', '114xx', '908xx', '902xx', '992xx', '750xx',\n",
       "       '950xx', '329xx', '226xx', '614xx', '802xx', '672xx', '083xx',\n",
       "       '100xx', '926xx', '931xx', '712xx', '060xx', '707xx', '342xx',\n",
       "       '895xx', '430xx', '919xx', '996xx', '891xx', '935xx', '801xx',\n",
       "       '928xx', '233xx', '927xx', '970xx', '211xx', '303xx', '070xx',\n",
       "       '194xx', '263xx', '403xx', '301xx', '553xx', '993xx', '312xx',\n",
       "       '432xx', '602xx', '216xx', '151xx', '971xx', '305xx', '334xx',\n",
       "       '050xx', '129xx', '925xx', '483xx', '760xx', '200xx', '085xx',\n",
       "       '981xx', '601xx', '117xx', '063xx', '920xx', '543xx', '775xx',\n",
       "       '570xx', '038xx', '221xx', '985xx', '113xx', '275xx', '236xx',\n",
       "       '148xx', '028xx', '450xx', '532xx', '729xx', '321xx', '959xx',\n",
       "       '941xx', '955xx', '217xx', '880xx', '660xx', '062xx', '193xx',\n",
       "       '761xx', '857xx', '306xx', '271xx', '142xx', '956xx', '983xx',\n",
       "       '945xx', '109xx', '112xx', '187xx', '630xx', '435xx', '488xx',\n",
       "       '287xx', '705xx', '592xx', '318xx', '549xx', '212xx', '347xx',\n",
       "       '274xx', '265xx', '785xx', '027xx', '089xx', '813xx', '069xx',\n",
       "       '260xx', '201xx', '349xx', '322xx', '075xx', '124xx', '940xx',\n",
       "       '967xx', '111xx', '773xx', '997xx', '076xx', '538xx', '021xx',\n",
       "       '304xx', '234xx', '308xx', '809xx', '071xx', '296xx', '240xx',\n",
       "       '830xx', '011xx', '622xx', '207xx', '140xx', '336xx', '619xx',\n",
       "       '208xx', '618xx', '014xx', '644xx', '283xx', '276xx', '631xx',\n",
       "       '243xx', '960xx', '181xx', '922xx', '224xx', '975xx', '105xx',\n",
       "       '986xx', '218xx', '652xx', '782xx', '410xx', '480xx', '719xx',\n",
       "       '982xx', '065xx', '081xx', '954xx', '346xx', '442xx', '025xx',\n",
       "       '122xx', '173xx', '282xx', '120xx', '082xx', '766xx', '229xx',\n",
       "       '840xx', '744xx', '933xx', '451xx', '907xx', '728xx', '159xx',\n",
       "       '333xx', '293xx', '701xx', '984xx', '811xx', '597xx', '957xx',\n",
       "       '165xx', '720xx', '119xx', '359xx', '195xx', '084xx', '969xx',\n",
       "       '924xx', '531xx', '716xx', '337xx', '841xx', '323xx', '740xx',\n",
       "       '179xx', '285xx', '551xx', '658xx', '944xx', '232xx', '905xx',\n",
       "       '600xx', '327xx', '711xx', '906xx', '444xx', '856xx', '064xx',\n",
       "       '777xx', '072xx', '554xx', '145xx', '537xx', '152xx', '847xx',\n",
       "       '295xx', '829xx', '320xx', '131xx', '939xx', '572xx', '281xx',\n",
       "       '550xx', '078xx', '452xx', '778xx', '313xx', '851xx', '784xx',\n",
       "       '804xx', '571xx', '210xx', '988xx', '400xx', '995xx', '805xx',\n",
       "       '023xx', '158xx', '657xx', '016xx', '019xx', '290xx', '190xx',\n",
       "       '366xx', '066xx', '991xx', '968xx', '721xx', '439xx', '640xx',\n",
       "       '546xx', '024xx', '751xx', '431xx', '741xx', '904xx', '156xx',\n",
       "       '316xx', '299xx', '087xx', '739xx', '949xx', '261xx', '073xx',\n",
       "       '222xx', '244xx', '617xx', '018xx', '286xx', '759xx', '952xx',\n",
       "       '930xx', '911xx', '220xx', '731xx', '730xx', '262xx', '160xx',\n",
       "       '031xx', '054xx', '223xx', '272xx', '882xx', '557xx', '797xx',\n",
       "       '725xx', '130xx', '030xx', '206xx', '324xx', '170xx', '291xx',\n",
       "       '161xx', '647xx', '916xx', '665xx', '209xx', '915xx', '110xx',\n",
       "       '086xx', '484xx', '844xx', '020xx', '354xx', '448xx', '978xx',\n",
       "       '757xx', '363xx', '953xx', '577xx', '315xx', '664xx', '186xx',\n",
       "       '182xx', '574xx', '800xx', '197xx', '137xx', '314xx', '755xx',\n",
       "       '973xx', '603xx', '481xx', '780xx', '894xx', '341xx', '178xx',\n",
       "       '068xx', '565xx', '611xx', '288xx', '443xx', '662xx', '874xx',\n",
       "       '560xx', '535xx', '756xx', '168xx', '827xx', '541xx', '615xx',\n",
       "       '989xx', '037xx', '339xx', '338xx', '367xx', '273xx', '052xx',\n",
       "       '623xx', '416xx', '648xx', '918xx', '436xx', '898xx', '674xx',\n",
       "       '496xx', '294xx', '762xx', '128xx', '903xx', '328xx', '932xx',\n",
       "       '650xx', '246xx', '633xx', '666xx', '228xx', '015xx', '302xx',\n",
       "       '573xx', '118xx', '998xx', '767xx', '490xx', '350xx', '254xx',\n",
       "       '596xx', '637xx', '032xx', '763xx', '871xx', '494xx', '402xx',\n",
       "       '545xx', '184xx', '458xx', '239xx', '977xx', '297xx', '284xx',\n",
       "       '144xx', '748xx', '310xx', '147xx', '153xx', '544xx', '948xx',\n",
       "       '576xx', '976xx', '107xx', '846xx', '344xx', '351xx', '754xx',\n",
       "       '910xx', '656xx', '357xx', '791xx', '493xx', '855xx', '278xx',\n",
       "       '125xx', '566xx', '175xx', '530xx', '171xx', '703xx', '620xx',\n",
       "       '438xx', '626xx', '307xx', '636xx', '319xx', '116xx', '645xx',\n",
       "       '708xx', '816xx', '625xx', '133xx', '612xx', '961xx', '238xx',\n",
       "       '166xx', '361xx', '231xx', '241xx', '826xx', '783xx', '793xx',\n",
       "       '646xx', '188xx', '108xx', '653xx', '057xx', '796xx', '990xx',\n",
       "       '219xx', '724xx', '456xx', '214xx', '237xx', '737xx', '121xx',\n",
       "       '199xx', '548xx', '453xx', '704xx', '368xx', '828xx', '598xx',\n",
       "       '136xx', '610xx', '722xx', '743xx', '810xx', '706xx', '235xx',\n",
       "       '139xx', '613xx', '454xx', '317xx', '746xx', '446xx', '486xx',\n",
       "       '863xx', '033xx', '279xx', '407xx', '794xx', '457xx', '189xx',\n",
       "       '196xx', '539xx', '424xx', '492xx', '482xx', '667xx', '845xx',\n",
       "       '401xx', '362xx', '627xx', '717xx', '356xx', '607xx', '198xx',\n",
       "       '936xx', '713xx', '227xx', '883xx', '563xx', '893xx', '806xx',\n",
       "       '360xx', '172xx', '422xx', '768xx', '034xx', '012xx', '594xx',\n",
       "       '215xx', '628xx', '749xx', '101xx', '814xx', '255xx', '745xx',\n",
       "       '495xx', '183xx', '106xx', '663xx', '943xx', '094xx', '177xx',\n",
       "       '365xx', '132xx', '897xx', '776xx', '803xx', '843xx', '864xx',\n",
       "       '421xx', '253xx', '795xx', '727xx', '528xx', '270xx', '277xx',\n",
       "       '735xx', '447xx', '079xx', '358xx', '815xx', '250xx', '230xx',\n",
       "       '790xx', '884xx', '242xx', '534xx', '404xx', '397xx', '870xx',\n",
       "       '434xx', '671xx', '591xx', '675xx', '053xx', '859xx', '126xx',\n",
       "       '102xx', '256xx', '489xx', '258xx', '423xx', '497xx', '788xx',\n",
       "       '127xx', '176xx', '380xx', '058xx', '635xx', '498xx', '599xx',\n",
       "       '822xx', '638xx', '723xx', '449xx', '420xx', '726xx', '185xx',\n",
       "       '963xx', '298xx', '257xx', '575xx', '624xx', '134xx', '877xx',\n",
       "       '499xx', '781xx', '718xx', '670xx', '138xx', '026xx', '678xx',\n",
       "       '398xx', '411xx', '149xx', '247xx', '881xx', '875xx', '651xx',\n",
       "       '364xx', '203xx', '427xx', '629xx', '355xx', '174xx', '547xx',\n",
       "       '567xx', '558xx', '135xx', '157xx', '999xx', '808xx', '634xx',\n",
       "       '455xx', '143xx', '154xx', '562xx', '779xx', '561xx', '734xx',\n",
       "       '655xx', '812xx', '268xx', '051xx', '865xx', '406xx', '661xx',\n",
       "       '758xx', '676xx', '491xx', '267xx', '609xx', '595xx', '259xx',\n",
       "       '163xx', '264xx', '035xx', '409xx', '376xx', '471xx', '820xx',\n",
       "       '375xx', '747xx', '123xx', '714xx', '590xx', '639xx', '412xx',\n",
       "       '425xx', '022xx', '608xx', '369xx', '164xx', '433xx', '825xx',\n",
       "       '266xx', '096xx', '251xx', '593xx', '487xx', '169xx', '413xx',\n",
       "       '155xx', '764xx', '710xx', '408xx', '668xx', '056xx', '669xx',\n",
       "       '167xx', '542xx', '679xx', '462xx', '824xx', '249xx', '798xx',\n",
       "       '370xx', '485xx', '654xx', '289xx', '807xx', '252xx', '556xx',\n",
       "       '353xx', '677xx', '769xx', '090xx', '371xx', '831xx', '527xx',\n",
       "       '736xx', '007xx', '332xx', '468xx', '461xx', '093xx', '248xx',\n",
       "       '463xx', '391xx', '381xx', '415xx', '378xx', '792xx', '673xx',\n",
       "       '789xx', '414xx', '396xx', '836xx', '044xx', '392xx', '772xx',\n",
       "       '374xx', '823xx', '395xx', '394xx', '965xx', '838xx', '390xx',\n",
       "       '388xx', '386xx', '040xx', '385xx', '379xx', '681xx', '837xx',\n",
       "       '373xx', '753xx', '834xx', '383xx', '384xx', '372xx', '833xx',\n",
       "       '522xx', '523xx', '474xx', '465xx', '689xx', '473xx', '041xx',\n",
       "       '685xx', '479xx', '469xx'], dtype=object)"
      ]
     },
     "execution_count": 43,
     "metadata": {},
     "output_type": "execute_result"
    }
   ],
   "source": [
    "loan_data['zip_code'].unique()"
   ]
  },
  {
   "cell_type": "code",
   "execution_count": 44,
   "metadata": {},
   "outputs": [
    {
     "data": {
      "text/plain": [
       "0    860\n",
       "1    309\n",
       "2    606\n",
       "3    917\n",
       "4    972\n",
       "Name: zip_code, dtype: object"
      ]
     },
     "execution_count": 44,
     "metadata": {},
     "output_type": "execute_result"
    }
   ],
   "source": [
    "loan_data['zip_code'] = loan_data['zip_code'].str.rstrip('x')\n",
    "loan_data['zip_code'].head()"
   ]
  },
  {
   "cell_type": "code",
   "execution_count": 45,
   "metadata": {},
   "outputs": [],
   "source": [
    "loan_data.to_csv('loans_2007.csv', index=False)"
   ]
  },
  {
   "cell_type": "code",
   "execution_count": 46,
   "metadata": {},
   "outputs": [
    {
     "data": {
      "text/html": [
       "<div>\n",
       "<style scoped>\n",
       "    .dataframe tbody tr th:only-of-type {\n",
       "        vertical-align: middle;\n",
       "    }\n",
       "\n",
       "    .dataframe tbody tr th {\n",
       "        vertical-align: top;\n",
       "    }\n",
       "\n",
       "    .dataframe thead th {\n",
       "        text-align: right;\n",
       "    }\n",
       "</style>\n",
       "<table border=\"1\" class=\"dataframe\">\n",
       "  <thead>\n",
       "    <tr style=\"text-align: right;\">\n",
       "      <th></th>\n",
       "      <th>loan_amnt</th>\n",
       "      <th>int_rate</th>\n",
       "      <th>installment</th>\n",
       "      <th>emp_length</th>\n",
       "      <th>annual_inc</th>\n",
       "      <th>loan_status</th>\n",
       "      <th>zip_code</th>\n",
       "      <th>dti</th>\n",
       "      <th>delinq_2yrs</th>\n",
       "      <th>inq_last_6mths</th>\n",
       "      <th>...</th>\n",
       "      <th>purpose_moving</th>\n",
       "      <th>purpose_other</th>\n",
       "      <th>purpose_renewable_energy</th>\n",
       "      <th>purpose_small_business</th>\n",
       "      <th>purpose_vacation</th>\n",
       "      <th>purpose_wedding</th>\n",
       "      <th>term_ 36 months</th>\n",
       "      <th>term_ 60 months</th>\n",
       "      <th>debt_settlement_flag_N</th>\n",
       "      <th>debt_settlement_flag_Y</th>\n",
       "    </tr>\n",
       "  </thead>\n",
       "  <tbody>\n",
       "    <tr>\n",
       "      <th>0</th>\n",
       "      <td>5000.0</td>\n",
       "      <td>10.65</td>\n",
       "      <td>162.87</td>\n",
       "      <td>10</td>\n",
       "      <td>24000.0</td>\n",
       "      <td>1</td>\n",
       "      <td>860</td>\n",
       "      <td>27.65</td>\n",
       "      <td>0.0</td>\n",
       "      <td>1.0</td>\n",
       "      <td>...</td>\n",
       "      <td>0</td>\n",
       "      <td>0</td>\n",
       "      <td>0</td>\n",
       "      <td>0</td>\n",
       "      <td>0</td>\n",
       "      <td>0</td>\n",
       "      <td>1</td>\n",
       "      <td>0</td>\n",
       "      <td>1</td>\n",
       "      <td>0</td>\n",
       "    </tr>\n",
       "    <tr>\n",
       "      <th>1</th>\n",
       "      <td>2500.0</td>\n",
       "      <td>15.27</td>\n",
       "      <td>59.83</td>\n",
       "      <td>0</td>\n",
       "      <td>30000.0</td>\n",
       "      <td>0</td>\n",
       "      <td>309</td>\n",
       "      <td>1.00</td>\n",
       "      <td>0.0</td>\n",
       "      <td>5.0</td>\n",
       "      <td>...</td>\n",
       "      <td>0</td>\n",
       "      <td>0</td>\n",
       "      <td>0</td>\n",
       "      <td>0</td>\n",
       "      <td>0</td>\n",
       "      <td>0</td>\n",
       "      <td>0</td>\n",
       "      <td>1</td>\n",
       "      <td>1</td>\n",
       "      <td>0</td>\n",
       "    </tr>\n",
       "    <tr>\n",
       "      <th>2</th>\n",
       "      <td>2400.0</td>\n",
       "      <td>15.96</td>\n",
       "      <td>84.33</td>\n",
       "      <td>10</td>\n",
       "      <td>12252.0</td>\n",
       "      <td>1</td>\n",
       "      <td>606</td>\n",
       "      <td>8.72</td>\n",
       "      <td>0.0</td>\n",
       "      <td>2.0</td>\n",
       "      <td>...</td>\n",
       "      <td>0</td>\n",
       "      <td>0</td>\n",
       "      <td>0</td>\n",
       "      <td>1</td>\n",
       "      <td>0</td>\n",
       "      <td>0</td>\n",
       "      <td>1</td>\n",
       "      <td>0</td>\n",
       "      <td>1</td>\n",
       "      <td>0</td>\n",
       "    </tr>\n",
       "    <tr>\n",
       "      <th>3</th>\n",
       "      <td>10000.0</td>\n",
       "      <td>13.49</td>\n",
       "      <td>339.31</td>\n",
       "      <td>10</td>\n",
       "      <td>49200.0</td>\n",
       "      <td>1</td>\n",
       "      <td>917</td>\n",
       "      <td>20.00</td>\n",
       "      <td>0.0</td>\n",
       "      <td>1.0</td>\n",
       "      <td>...</td>\n",
       "      <td>0</td>\n",
       "      <td>1</td>\n",
       "      <td>0</td>\n",
       "      <td>0</td>\n",
       "      <td>0</td>\n",
       "      <td>0</td>\n",
       "      <td>1</td>\n",
       "      <td>0</td>\n",
       "      <td>1</td>\n",
       "      <td>0</td>\n",
       "    </tr>\n",
       "    <tr>\n",
       "      <th>4</th>\n",
       "      <td>3000.0</td>\n",
       "      <td>12.69</td>\n",
       "      <td>67.79</td>\n",
       "      <td>1</td>\n",
       "      <td>80000.0</td>\n",
       "      <td>1</td>\n",
       "      <td>972</td>\n",
       "      <td>17.94</td>\n",
       "      <td>0.0</td>\n",
       "      <td>0.0</td>\n",
       "      <td>...</td>\n",
       "      <td>0</td>\n",
       "      <td>1</td>\n",
       "      <td>0</td>\n",
       "      <td>0</td>\n",
       "      <td>0</td>\n",
       "      <td>0</td>\n",
       "      <td>0</td>\n",
       "      <td>1</td>\n",
       "      <td>1</td>\n",
       "      <td>0</td>\n",
       "    </tr>\n",
       "  </tbody>\n",
       "</table>\n",
       "<p>5 rows × 42 columns</p>\n",
       "</div>"
      ],
      "text/plain": [
       "   loan_amnt  int_rate  installment  emp_length  annual_inc  loan_status  \\\n",
       "0     5000.0     10.65       162.87          10     24000.0            1   \n",
       "1     2500.0     15.27        59.83           0     30000.0            0   \n",
       "2     2400.0     15.96        84.33          10     12252.0            1   \n",
       "3    10000.0     13.49       339.31          10     49200.0            1   \n",
       "4     3000.0     12.69        67.79           1     80000.0            1   \n",
       "\n",
       "   zip_code    dti  delinq_2yrs  inq_last_6mths           ...            \\\n",
       "0       860  27.65          0.0             1.0           ...             \n",
       "1       309   1.00          0.0             5.0           ...             \n",
       "2       606   8.72          0.0             2.0           ...             \n",
       "3       917  20.00          0.0             1.0           ...             \n",
       "4       972  17.94          0.0             0.0           ...             \n",
       "\n",
       "   purpose_moving  purpose_other  purpose_renewable_energy  \\\n",
       "0               0              0                         0   \n",
       "1               0              0                         0   \n",
       "2               0              0                         0   \n",
       "3               0              1                         0   \n",
       "4               0              1                         0   \n",
       "\n",
       "   purpose_small_business  purpose_vacation  purpose_wedding  term_ 36 months  \\\n",
       "0                       0                 0                0                1   \n",
       "1                       0                 0                0                0   \n",
       "2                       1                 0                0                1   \n",
       "3                       0                 0                0                1   \n",
       "4                       0                 0                0                0   \n",
       "\n",
       "   term_ 60 months  debt_settlement_flag_N  debt_settlement_flag_Y  \n",
       "0                0                       1                       0  \n",
       "1                1                       1                       0  \n",
       "2                0                       1                       0  \n",
       "3                0                       1                       0  \n",
       "4                1                       1                       0  \n",
       "\n",
       "[5 rows x 42 columns]"
      ]
     },
     "execution_count": 46,
     "metadata": {},
     "output_type": "execute_result"
    }
   ],
   "source": [
    "filtered_loans = pd.read_csv('loans_2007.csv',low_memory=False)\n",
    "filtered_loans.head()"
   ]
  },
  {
   "cell_type": "code",
   "execution_count": 47,
   "metadata": {},
   "outputs": [],
   "source": [
    "def zip_formatted(row):\n",
    "    if len(str(row)) == 1:\n",
    "        row = str(row)+ '00'\n",
    "    elif len(str(row)) == 2:\n",
    "        row = str(row)+ '0'\n",
    "    return int(row)"
   ]
  },
  {
   "cell_type": "code",
   "execution_count": 48,
   "metadata": {},
   "outputs": [],
   "source": [
    "filtered_loans['zip_code'] = filtered_loans['zip_code'].apply(zip_formatted)"
   ]
  },
  {
   "cell_type": "code",
   "execution_count": 49,
   "metadata": {},
   "outputs": [
    {
     "data": {
      "text/plain": [
       "array([860, 309, 606, 917, 972, 852, 280, 900, 958, 774, 853, 913, 245,\n",
       "       951, 641, 921, 670, 890, 770, 335, 799, 605, 103, 150, 326, 564,\n",
       "       141, 800, 330, 974, 934, 405, 946, 445, 850, 604, 292, 880, 180,\n",
       "       290, 700, 100, 441, 104, 610, 616, 947, 914, 765, 980, 170, 752,\n",
       "       787, 540, 225, 440, 437, 559, 912, 325, 300, 923, 352, 130, 146,\n",
       "       740, 786, 937, 331, 115, 191, 114, 908, 902, 992, 750, 950, 329,\n",
       "       226, 614, 802, 672, 830, 926, 931, 712, 600, 707, 342, 895, 430,\n",
       "       919, 996, 891, 935, 801, 928, 233, 927, 970, 211, 303, 194, 263,\n",
       "       403, 301, 553, 993, 312, 432, 602, 216, 151, 971, 305, 334, 500,\n",
       "       129, 925, 483, 760, 200, 981, 601, 117, 630, 920, 543, 775, 570,\n",
       "       380, 221, 985, 113, 275, 236, 148, 450, 532, 729, 321, 959, 941,\n",
       "       955, 217, 660, 620, 193, 761, 857, 306, 271, 142, 956, 983, 945,\n",
       "       109, 112, 187, 435, 488, 287, 705, 592, 318, 549, 212, 347, 274,\n",
       "       265, 785, 270, 813, 690, 260, 201, 349, 322, 124, 940, 967, 111,\n",
       "       773, 997, 538, 210, 304, 234, 308, 809, 710, 296, 240, 110, 622,\n",
       "       207, 140, 336, 619, 208, 618, 644, 283, 276, 631, 243, 960, 181,\n",
       "       922, 224, 975, 105, 986, 218, 652, 782, 410, 480, 719, 982, 650,\n",
       "       810, 954, 346, 442, 250, 122, 173, 282, 120, 820, 766, 229, 840,\n",
       "       744, 933, 451, 907, 728, 159, 333, 293, 701, 984, 811, 597, 957,\n",
       "       165, 720, 119, 359, 195, 969, 924, 531, 716, 337, 841, 323, 179,\n",
       "       285, 551, 658, 944, 232, 905, 327, 711, 906, 444, 856, 640, 777,\n",
       "       554, 145, 537, 152, 847, 295, 829, 320, 131, 939, 572, 281, 550,\n",
       "       780, 452, 778, 313, 851, 784, 804, 571, 988, 400, 995, 805, 230,\n",
       "       158, 657, 160, 190, 366, 991, 968, 721, 439, 546, 751, 431, 741,\n",
       "       904, 156, 316, 299, 870, 739, 949, 261, 730, 222, 244, 617, 286,\n",
       "       759, 952, 930, 911, 220, 731, 262, 310, 223, 272, 882, 557, 797,\n",
       "       725, 206, 324, 291, 161, 647, 916, 665, 209, 915, 484, 844, 354,\n",
       "       448, 978, 757, 363, 953, 577, 315, 664, 186, 182, 574, 197, 137,\n",
       "       314, 755, 973, 603, 481, 894, 341, 178, 680, 565, 611, 288, 443,\n",
       "       662, 874, 560, 535, 756, 168, 827, 541, 615, 989, 370, 339, 338,\n",
       "       367, 273, 520, 623, 416, 648, 918, 436, 898, 674, 496, 294, 762,\n",
       "       128, 903, 328, 932, 246, 633, 666, 228, 302, 573, 118, 998, 767,\n",
       "       490, 350, 254, 596, 637, 763, 871, 494, 402, 545, 184, 458, 239,\n",
       "       977, 297, 284, 144, 748, 147, 153, 544, 948, 576, 976, 107, 846,\n",
       "       344, 351, 754, 910, 656, 357, 791, 493, 855, 278, 125, 566, 175,\n",
       "       530, 171, 703, 438, 626, 307, 636, 319, 116, 645, 708, 816, 625,\n",
       "       133, 612, 961, 238, 166, 361, 231, 241, 826, 783, 793, 646, 188,\n",
       "       108, 653, 796, 990, 219, 724, 456, 214, 237, 737, 121, 199, 548,\n",
       "       453, 704, 368, 828, 598, 136, 722, 743, 706, 235, 139, 613, 454,\n",
       "       317, 746, 446, 486, 863, 279, 407, 794, 457, 189, 196, 539, 424,\n",
       "       492, 482, 667, 845, 401, 362, 627, 717, 356, 607, 198, 936, 713,\n",
       "       227, 883, 563, 893, 806, 360, 172, 422, 768, 340, 594, 215, 628,\n",
       "       749, 101, 814, 255, 745, 495, 183, 106, 663, 943, 177, 365, 132,\n",
       "       897, 776, 803, 843, 864, 421, 253, 795, 727, 528, 277, 735, 447,\n",
       "       790, 358, 815, 884, 242, 534, 404, 397, 434, 671, 591, 675, 859,\n",
       "       126, 102, 256, 489, 258, 423, 497, 788, 127, 176, 580, 635, 498,\n",
       "       599, 822, 638, 723, 449, 420, 726, 185, 963, 298, 257, 575, 624,\n",
       "       134, 877, 499, 781, 718, 138, 678, 398, 411, 149, 247, 881, 875,\n",
       "       651, 364, 203, 427, 629, 355, 174, 547, 567, 558, 135, 157, 999,\n",
       "       808, 634, 455, 143, 154, 562, 779, 561, 734, 655, 812, 268, 510,\n",
       "       865, 406, 661, 758, 676, 491, 267, 609, 595, 259, 163, 264, 409,\n",
       "       376, 471, 375, 747, 123, 714, 590, 639, 412, 425, 608, 369, 164,\n",
       "       433, 825, 266, 251, 593, 487, 169, 413, 155, 764, 408, 668, 669,\n",
       "       167, 542, 679, 462, 824, 249, 798, 485, 654, 289, 807, 252, 556,\n",
       "       353, 677, 769, 371, 831, 527, 736, 332, 468, 461, 248, 463, 391,\n",
       "       381, 415, 378, 792, 673, 789, 414, 396, 836, 392, 772, 374, 823,\n",
       "       395, 394, 965, 838, 390, 388, 386, 385, 379, 681, 837, 373, 753,\n",
       "       834, 383, 384, 372, 833, 522, 523, 474, 465, 689, 473, 685, 479,\n",
       "       469], dtype=int64)"
      ]
     },
     "execution_count": 49,
     "metadata": {},
     "output_type": "execute_result"
    }
   ],
   "source": [
    "filtered_loans['zip_code'].unique()"
   ]
  },
  {
   "cell_type": "code",
   "execution_count": 50,
   "metadata": {},
   "outputs": [
    {
     "data": {
      "text/plain": [
       "loan_amnt                              0\n",
       "int_rate                               0\n",
       "installment                            0\n",
       "emp_length                             0\n",
       "annual_inc                             0\n",
       "loan_status                            0\n",
       "zip_code                               0\n",
       "dti                                    0\n",
       "delinq_2yrs                            0\n",
       "inq_last_6mths                         0\n",
       "open_acc                               0\n",
       "pub_rec                                0\n",
       "revol_bal                              0\n",
       "revol_util                             0\n",
       "total_acc                              0\n",
       "last_fico_range_high                   0\n",
       "home_ownership_MORTGAGE                0\n",
       "home_ownership_NONE                    0\n",
       "home_ownership_OTHER                   0\n",
       "home_ownership_OWN                     0\n",
       "home_ownership_RENT                    0\n",
       "verification_status_Not Verified       0\n",
       "verification_status_Source Verified    0\n",
       "verification_status_Verified           0\n",
       "purpose_car                            0\n",
       "purpose_credit_card                    0\n",
       "purpose_debt_consolidation             0\n",
       "purpose_educational                    0\n",
       "purpose_home_improvement               0\n",
       "purpose_house                          0\n",
       "purpose_major_purchase                 0\n",
       "purpose_medical                        0\n",
       "purpose_moving                         0\n",
       "purpose_other                          0\n",
       "purpose_renewable_energy               0\n",
       "purpose_small_business                 0\n",
       "purpose_vacation                       0\n",
       "purpose_wedding                        0\n",
       "term_ 36 months                        0\n",
       "term_ 60 months                        0\n",
       "debt_settlement_flag_N                 0\n",
       "debt_settlement_flag_Y                 0\n",
       "dtype: int64"
      ]
     },
     "execution_count": 50,
     "metadata": {},
     "output_type": "execute_result"
    }
   ],
   "source": [
    "filtered_loans.isnull().sum()"
   ]
  },
  {
   "cell_type": "code",
   "execution_count": 51,
   "metadata": {},
   "outputs": [
    {
     "name": "stdout",
     "output_type": "stream",
     "text": [
      "int64      29\n",
      "float64    13\n",
      "dtype: int64\n",
      "\n"
     ]
    },
    {
     "data": {
      "text/plain": [
       "loan_amnt                              0\n",
       "int_rate                               0\n",
       "installment                            0\n",
       "emp_length                             0\n",
       "annual_inc                             0\n",
       "loan_status                            0\n",
       "zip_code                               0\n",
       "dti                                    0\n",
       "delinq_2yrs                            0\n",
       "inq_last_6mths                         0\n",
       "open_acc                               0\n",
       "pub_rec                                0\n",
       "revol_bal                              0\n",
       "revol_util                             0\n",
       "total_acc                              0\n",
       "last_fico_range_high                   0\n",
       "home_ownership_MORTGAGE                0\n",
       "home_ownership_NONE                    0\n",
       "home_ownership_OTHER                   0\n",
       "home_ownership_OWN                     0\n",
       "home_ownership_RENT                    0\n",
       "verification_status_Not Verified       0\n",
       "verification_status_Source Verified    0\n",
       "verification_status_Verified           0\n",
       "purpose_car                            0\n",
       "purpose_credit_card                    0\n",
       "purpose_debt_consolidation             0\n",
       "purpose_educational                    0\n",
       "purpose_home_improvement               0\n",
       "purpose_house                          0\n",
       "purpose_major_purchase                 0\n",
       "purpose_medical                        0\n",
       "purpose_moving                         0\n",
       "purpose_other                          0\n",
       "purpose_renewable_energy               0\n",
       "purpose_small_business                 0\n",
       "purpose_vacation                       0\n",
       "purpose_wedding                        0\n",
       "term_ 36 months                        0\n",
       "term_ 60 months                        0\n",
       "debt_settlement_flag_N                 0\n",
       "debt_settlement_flag_Y                 0\n",
       "dtype: int64"
      ]
     },
     "execution_count": 51,
     "metadata": {},
     "output_type": "execute_result"
    }
   ],
   "source": [
    "filtered_loans = filtered_loans.dropna()\n",
    "print(filtered_loans.dtypes.value_counts())\n",
    "print()\n",
    "filtered_loans.isnull().sum()"
   ]
  },
  {
   "cell_type": "markdown",
   "metadata": {},
   "source": [
    "# Model Evaluation And Validation"
   ]
  },
  {
   "cell_type": "markdown",
   "metadata": {},
   "source": [
    "## Machine Learning Algorithm Fitting"
   ]
  },
  {
   "cell_type": "markdown",
   "metadata": {},
   "source": [
    "In this part, now that we have cleaned the dataset and encoded the variable with dummy encoding to process categorical data, let's dive in the first machine learning algorithm that we will try to use on the data set. But before, let's see the result of our work on the dataset"
   ]
  },
  {
   "cell_type": "code",
   "execution_count": 52,
   "metadata": {},
   "outputs": [
    {
     "name": "stdout",
     "output_type": "stream",
     "text": [
      "int64      29\n",
      "float64    13\n",
      "dtype: int64\n",
      "\n"
     ]
    },
    {
     "data": {
      "text/plain": [
       "loan_amnt                              0\n",
       "int_rate                               0\n",
       "installment                            0\n",
       "emp_length                             0\n",
       "annual_inc                             0\n",
       "loan_status                            0\n",
       "zip_code                               0\n",
       "dti                                    0\n",
       "delinq_2yrs                            0\n",
       "inq_last_6mths                         0\n",
       "open_acc                               0\n",
       "pub_rec                                0\n",
       "revol_bal                              0\n",
       "revol_util                             0\n",
       "total_acc                              0\n",
       "last_fico_range_high                   0\n",
       "home_ownership_MORTGAGE                0\n",
       "home_ownership_NONE                    0\n",
       "home_ownership_OTHER                   0\n",
       "home_ownership_OWN                     0\n",
       "home_ownership_RENT                    0\n",
       "verification_status_Not Verified       0\n",
       "verification_status_Source Verified    0\n",
       "verification_status_Verified           0\n",
       "purpose_car                            0\n",
       "purpose_credit_card                    0\n",
       "purpose_debt_consolidation             0\n",
       "purpose_educational                    0\n",
       "purpose_home_improvement               0\n",
       "purpose_house                          0\n",
       "purpose_major_purchase                 0\n",
       "purpose_medical                        0\n",
       "purpose_moving                         0\n",
       "purpose_other                          0\n",
       "purpose_renewable_energy               0\n",
       "purpose_small_business                 0\n",
       "purpose_vacation                       0\n",
       "purpose_wedding                        0\n",
       "term_ 36 months                        0\n",
       "term_ 60 months                        0\n",
       "debt_settlement_flag_N                 0\n",
       "debt_settlement_flag_Y                 0\n",
       "dtype: int64"
      ]
     },
     "execution_count": 52,
     "metadata": {},
     "output_type": "execute_result"
    }
   ],
   "source": [
    "filtered_loans = filtered_loans.dropna()\n",
    "print(filtered_loans.dtypes.value_counts())\n",
    "print()\n",
    "filtered_loans.isnull().sum()"
   ]
  },
  {
   "cell_type": "code",
   "execution_count": 53,
   "metadata": {},
   "outputs": [],
   "source": [
    "filtered_loans.to_csv('filtered_loans.csv',index=False)"
   ]
  },
  {
   "cell_type": "code",
   "execution_count": 54,
   "metadata": {},
   "outputs": [
    {
     "data": {
      "text/html": [
       "<div>\n",
       "<style scoped>\n",
       "    .dataframe tbody tr th:only-of-type {\n",
       "        vertical-align: middle;\n",
       "    }\n",
       "\n",
       "    .dataframe tbody tr th {\n",
       "        vertical-align: top;\n",
       "    }\n",
       "\n",
       "    .dataframe thead th {\n",
       "        text-align: right;\n",
       "    }\n",
       "</style>\n",
       "<table border=\"1\" class=\"dataframe\">\n",
       "  <thead>\n",
       "    <tr style=\"text-align: right;\">\n",
       "      <th></th>\n",
       "      <th>loan_amnt</th>\n",
       "      <th>int_rate</th>\n",
       "      <th>installment</th>\n",
       "      <th>emp_length</th>\n",
       "      <th>annual_inc</th>\n",
       "      <th>loan_status</th>\n",
       "      <th>zip_code</th>\n",
       "      <th>dti</th>\n",
       "      <th>delinq_2yrs</th>\n",
       "      <th>inq_last_6mths</th>\n",
       "      <th>...</th>\n",
       "      <th>purpose_moving</th>\n",
       "      <th>purpose_other</th>\n",
       "      <th>purpose_renewable_energy</th>\n",
       "      <th>purpose_small_business</th>\n",
       "      <th>purpose_vacation</th>\n",
       "      <th>purpose_wedding</th>\n",
       "      <th>term_ 36 months</th>\n",
       "      <th>term_ 60 months</th>\n",
       "      <th>debt_settlement_flag_N</th>\n",
       "      <th>debt_settlement_flag_Y</th>\n",
       "    </tr>\n",
       "  </thead>\n",
       "  <tbody>\n",
       "    <tr>\n",
       "      <th>0</th>\n",
       "      <td>5000.0</td>\n",
       "      <td>10.65</td>\n",
       "      <td>162.87</td>\n",
       "      <td>10</td>\n",
       "      <td>24000.0</td>\n",
       "      <td>1</td>\n",
       "      <td>860</td>\n",
       "      <td>27.65</td>\n",
       "      <td>0.0</td>\n",
       "      <td>1.0</td>\n",
       "      <td>...</td>\n",
       "      <td>0</td>\n",
       "      <td>0</td>\n",
       "      <td>0</td>\n",
       "      <td>0</td>\n",
       "      <td>0</td>\n",
       "      <td>0</td>\n",
       "      <td>1</td>\n",
       "      <td>0</td>\n",
       "      <td>1</td>\n",
       "      <td>0</td>\n",
       "    </tr>\n",
       "    <tr>\n",
       "      <th>1</th>\n",
       "      <td>2500.0</td>\n",
       "      <td>15.27</td>\n",
       "      <td>59.83</td>\n",
       "      <td>0</td>\n",
       "      <td>30000.0</td>\n",
       "      <td>0</td>\n",
       "      <td>309</td>\n",
       "      <td>1.00</td>\n",
       "      <td>0.0</td>\n",
       "      <td>5.0</td>\n",
       "      <td>...</td>\n",
       "      <td>0</td>\n",
       "      <td>0</td>\n",
       "      <td>0</td>\n",
       "      <td>0</td>\n",
       "      <td>0</td>\n",
       "      <td>0</td>\n",
       "      <td>0</td>\n",
       "      <td>1</td>\n",
       "      <td>1</td>\n",
       "      <td>0</td>\n",
       "    </tr>\n",
       "    <tr>\n",
       "      <th>2</th>\n",
       "      <td>2400.0</td>\n",
       "      <td>15.96</td>\n",
       "      <td>84.33</td>\n",
       "      <td>10</td>\n",
       "      <td>12252.0</td>\n",
       "      <td>1</td>\n",
       "      <td>606</td>\n",
       "      <td>8.72</td>\n",
       "      <td>0.0</td>\n",
       "      <td>2.0</td>\n",
       "      <td>...</td>\n",
       "      <td>0</td>\n",
       "      <td>0</td>\n",
       "      <td>0</td>\n",
       "      <td>1</td>\n",
       "      <td>0</td>\n",
       "      <td>0</td>\n",
       "      <td>1</td>\n",
       "      <td>0</td>\n",
       "      <td>1</td>\n",
       "      <td>0</td>\n",
       "    </tr>\n",
       "    <tr>\n",
       "      <th>3</th>\n",
       "      <td>10000.0</td>\n",
       "      <td>13.49</td>\n",
       "      <td>339.31</td>\n",
       "      <td>10</td>\n",
       "      <td>49200.0</td>\n",
       "      <td>1</td>\n",
       "      <td>917</td>\n",
       "      <td>20.00</td>\n",
       "      <td>0.0</td>\n",
       "      <td>1.0</td>\n",
       "      <td>...</td>\n",
       "      <td>0</td>\n",
       "      <td>1</td>\n",
       "      <td>0</td>\n",
       "      <td>0</td>\n",
       "      <td>0</td>\n",
       "      <td>0</td>\n",
       "      <td>1</td>\n",
       "      <td>0</td>\n",
       "      <td>1</td>\n",
       "      <td>0</td>\n",
       "    </tr>\n",
       "    <tr>\n",
       "      <th>4</th>\n",
       "      <td>3000.0</td>\n",
       "      <td>12.69</td>\n",
       "      <td>67.79</td>\n",
       "      <td>1</td>\n",
       "      <td>80000.0</td>\n",
       "      <td>1</td>\n",
       "      <td>972</td>\n",
       "      <td>17.94</td>\n",
       "      <td>0.0</td>\n",
       "      <td>0.0</td>\n",
       "      <td>...</td>\n",
       "      <td>0</td>\n",
       "      <td>1</td>\n",
       "      <td>0</td>\n",
       "      <td>0</td>\n",
       "      <td>0</td>\n",
       "      <td>0</td>\n",
       "      <td>0</td>\n",
       "      <td>1</td>\n",
       "      <td>1</td>\n",
       "      <td>0</td>\n",
       "    </tr>\n",
       "  </tbody>\n",
       "</table>\n",
       "<p>5 rows × 42 columns</p>\n",
       "</div>"
      ],
      "text/plain": [
       "   loan_amnt  int_rate  installment  emp_length  annual_inc  loan_status  \\\n",
       "0     5000.0     10.65       162.87          10     24000.0            1   \n",
       "1     2500.0     15.27        59.83           0     30000.0            0   \n",
       "2     2400.0     15.96        84.33          10     12252.0            1   \n",
       "3    10000.0     13.49       339.31          10     49200.0            1   \n",
       "4     3000.0     12.69        67.79           1     80000.0            1   \n",
       "\n",
       "   zip_code    dti  delinq_2yrs  inq_last_6mths           ...            \\\n",
       "0       860  27.65          0.0             1.0           ...             \n",
       "1       309   1.00          0.0             5.0           ...             \n",
       "2       606   8.72          0.0             2.0           ...             \n",
       "3       917  20.00          0.0             1.0           ...             \n",
       "4       972  17.94          0.0             0.0           ...             \n",
       "\n",
       "   purpose_moving  purpose_other  purpose_renewable_energy  \\\n",
       "0               0              0                         0   \n",
       "1               0              0                         0   \n",
       "2               0              0                         0   \n",
       "3               0              1                         0   \n",
       "4               0              1                         0   \n",
       "\n",
       "   purpose_small_business  purpose_vacation  purpose_wedding  term_ 36 months  \\\n",
       "0                       0                 0                0                1   \n",
       "1                       0                 0                0                0   \n",
       "2                       1                 0                0                1   \n",
       "3                       0                 0                0                1   \n",
       "4                       0                 0                0                0   \n",
       "\n",
       "   term_ 60 months  debt_settlement_flag_N  debt_settlement_flag_Y  \n",
       "0                0                       1                       0  \n",
       "1                1                       1                       0  \n",
       "2                0                       1                       0  \n",
       "3                0                       1                       0  \n",
       "4                1                       1                       0  \n",
       "\n",
       "[5 rows x 42 columns]"
      ]
     },
     "execution_count": 54,
     "metadata": {},
     "output_type": "execute_result"
    }
   ],
   "source": [
    "loans = pd.read_csv('filtered_loans.csv',low_memory=False)\n",
    "loans.head()"
   ]
  },
  {
   "cell_type": "code",
   "execution_count": 55,
   "metadata": {},
   "outputs": [
    {
     "data": {
      "text/plain": [
       "array([860, 309, 606, 917, 972, 852, 280, 900, 958, 774, 853, 913, 245,\n",
       "       951, 641, 921, 670, 890, 770, 335, 799, 605, 103, 150, 326, 564,\n",
       "       141, 800, 330, 974, 934, 405, 946, 445, 850, 604, 292, 880, 180,\n",
       "       290, 700, 100, 441, 104, 610, 616, 947, 914, 765, 980, 170, 752,\n",
       "       787, 540, 225, 440, 437, 559, 912, 325, 300, 923, 352, 130, 146,\n",
       "       740, 786, 937, 331, 115, 191, 114, 908, 902, 992, 750, 950, 329,\n",
       "       226, 614, 802, 672, 830, 926, 931, 712, 600, 707, 342, 895, 430,\n",
       "       919, 996, 891, 935, 801, 928, 233, 927, 970, 211, 303, 194, 263,\n",
       "       403, 301, 553, 993, 312, 432, 602, 216, 151, 971, 305, 334, 500,\n",
       "       129, 925, 483, 760, 200, 981, 601, 117, 630, 920, 543, 775, 570,\n",
       "       380, 221, 985, 113, 275, 236, 148, 450, 532, 729, 321, 959, 941,\n",
       "       955, 217, 660, 620, 193, 761, 857, 306, 271, 142, 956, 983, 945,\n",
       "       109, 112, 187, 435, 488, 287, 705, 592, 318, 549, 212, 347, 274,\n",
       "       265, 785, 270, 813, 690, 260, 201, 349, 322, 124, 940, 967, 111,\n",
       "       773, 997, 538, 210, 304, 234, 308, 809, 710, 296, 240, 110, 622,\n",
       "       207, 140, 336, 619, 208, 618, 644, 283, 276, 631, 243, 960, 181,\n",
       "       922, 224, 975, 105, 986, 218, 652, 782, 410, 480, 719, 982, 650,\n",
       "       810, 954, 346, 442, 250, 122, 173, 282, 120, 820, 766, 229, 840,\n",
       "       744, 933, 451, 907, 728, 159, 333, 293, 701, 984, 811, 597, 957,\n",
       "       165, 720, 119, 359, 195, 969, 924, 531, 716, 337, 841, 323, 179,\n",
       "       285, 551, 658, 944, 232, 905, 327, 711, 906, 444, 856, 640, 777,\n",
       "       554, 145, 537, 152, 847, 295, 829, 320, 131, 939, 572, 281, 550,\n",
       "       780, 452, 778, 313, 851, 784, 804, 571, 988, 400, 995, 805, 230,\n",
       "       158, 657, 160, 190, 366, 991, 968, 721, 439, 546, 751, 431, 741,\n",
       "       904, 156, 316, 299, 870, 739, 949, 261, 730, 222, 244, 617, 286,\n",
       "       759, 952, 930, 911, 220, 731, 262, 310, 223, 272, 882, 557, 797,\n",
       "       725, 206, 324, 291, 161, 647, 916, 665, 209, 915, 484, 844, 354,\n",
       "       448, 978, 757, 363, 953, 577, 315, 664, 186, 182, 574, 197, 137,\n",
       "       314, 755, 973, 603, 481, 894, 341, 178, 680, 565, 611, 288, 443,\n",
       "       662, 874, 560, 535, 756, 168, 827, 541, 615, 989, 370, 339, 338,\n",
       "       367, 273, 520, 623, 416, 648, 918, 436, 898, 674, 496, 294, 762,\n",
       "       128, 903, 328, 932, 246, 633, 666, 228, 302, 573, 118, 998, 767,\n",
       "       490, 350, 254, 596, 637, 763, 871, 494, 402, 545, 184, 458, 239,\n",
       "       977, 297, 284, 144, 748, 147, 153, 544, 948, 576, 976, 107, 846,\n",
       "       344, 351, 754, 910, 656, 357, 791, 493, 855, 278, 125, 566, 175,\n",
       "       530, 171, 703, 438, 626, 307, 636, 319, 116, 645, 708, 816, 625,\n",
       "       133, 612, 961, 238, 166, 361, 231, 241, 826, 783, 793, 646, 188,\n",
       "       108, 653, 796, 990, 219, 724, 456, 214, 237, 737, 121, 199, 548,\n",
       "       453, 704, 368, 828, 598, 136, 722, 743, 706, 235, 139, 613, 454,\n",
       "       317, 746, 446, 486, 863, 279, 407, 794, 457, 189, 196, 539, 424,\n",
       "       492, 482, 667, 845, 401, 362, 627, 717, 356, 607, 198, 936, 713,\n",
       "       227, 883, 563, 893, 806, 360, 172, 422, 768, 340, 594, 215, 628,\n",
       "       749, 101, 814, 255, 745, 495, 183, 106, 663, 943, 177, 365, 132,\n",
       "       897, 776, 803, 843, 864, 421, 253, 795, 727, 528, 277, 735, 447,\n",
       "       790, 358, 815, 884, 242, 534, 404, 397, 434, 671, 591, 675, 859,\n",
       "       126, 102, 256, 489, 258, 423, 497, 788, 127, 176, 580, 635, 498,\n",
       "       599, 822, 638, 723, 449, 420, 726, 185, 963, 298, 257, 575, 624,\n",
       "       134, 877, 499, 781, 718, 138, 678, 398, 411, 149, 247, 881, 875,\n",
       "       651, 364, 203, 427, 629, 355, 174, 547, 567, 558, 135, 157, 999,\n",
       "       808, 634, 455, 143, 154, 562, 779, 561, 734, 655, 812, 268, 510,\n",
       "       865, 406, 661, 758, 676, 491, 267, 609, 595, 259, 163, 264, 409,\n",
       "       376, 471, 375, 747, 123, 714, 590, 639, 412, 425, 608, 369, 164,\n",
       "       433, 825, 266, 251, 593, 487, 169, 413, 155, 764, 408, 668, 669,\n",
       "       167, 542, 679, 462, 824, 249, 798, 485, 654, 289, 807, 252, 556,\n",
       "       353, 677, 769, 371, 831, 527, 736, 332, 468, 461, 248, 463, 391,\n",
       "       381, 415, 378, 792, 673, 789, 414, 396, 836, 392, 772, 374, 823,\n",
       "       395, 394, 965, 838, 390, 388, 386, 385, 379, 681, 837, 373, 753,\n",
       "       834, 383, 384, 372, 833, 522, 523, 474, 465, 689, 473, 685, 479,\n",
       "       469], dtype=int64)"
      ]
     },
     "execution_count": 55,
     "metadata": {},
     "output_type": "execute_result"
    }
   ],
   "source": [
    "loans['zip_code'].unique()"
   ]
  },
  {
   "cell_type": "code",
   "execution_count": 56,
   "metadata": {},
   "outputs": [
    {
     "data": {
      "text/plain": [
       "1    0.859686\n",
       "0    0.140314\n",
       "Name: loan_status, dtype: float64"
      ]
     },
     "execution_count": 56,
     "metadata": {},
     "output_type": "execute_result"
    }
   ],
   "source": [
    "loans['loan_status'].value_counts() / loans.shape[0]"
   ]
  },
  {
   "cell_type": "code",
   "execution_count": 57,
   "metadata": {},
   "outputs": [
    {
     "name": "stdout",
     "output_type": "stream",
     "text": [
      "<class 'pandas.core.frame.DataFrame'>\n",
      "RangeIndex: 38649 entries, 0 to 38648\n",
      "Data columns (total 42 columns):\n",
      "loan_amnt                              38649 non-null float64\n",
      "int_rate                               38649 non-null float64\n",
      "installment                            38649 non-null float64\n",
      "emp_length                             38649 non-null int64\n",
      "annual_inc                             38649 non-null float64\n",
      "loan_status                            38649 non-null int64\n",
      "zip_code                               38649 non-null int64\n",
      "dti                                    38649 non-null float64\n",
      "delinq_2yrs                            38649 non-null float64\n",
      "inq_last_6mths                         38649 non-null float64\n",
      "open_acc                               38649 non-null float64\n",
      "pub_rec                                38649 non-null float64\n",
      "revol_bal                              38649 non-null float64\n",
      "revol_util                             38649 non-null float64\n",
      "total_acc                              38649 non-null float64\n",
      "last_fico_range_high                   38649 non-null float64\n",
      "home_ownership_MORTGAGE                38649 non-null int64\n",
      "home_ownership_NONE                    38649 non-null int64\n",
      "home_ownership_OTHER                   38649 non-null int64\n",
      "home_ownership_OWN                     38649 non-null int64\n",
      "home_ownership_RENT                    38649 non-null int64\n",
      "verification_status_Not Verified       38649 non-null int64\n",
      "verification_status_Source Verified    38649 non-null int64\n",
      "verification_status_Verified           38649 non-null int64\n",
      "purpose_car                            38649 non-null int64\n",
      "purpose_credit_card                    38649 non-null int64\n",
      "purpose_debt_consolidation             38649 non-null int64\n",
      "purpose_educational                    38649 non-null int64\n",
      "purpose_home_improvement               38649 non-null int64\n",
      "purpose_house                          38649 non-null int64\n",
      "purpose_major_purchase                 38649 non-null int64\n",
      "purpose_medical                        38649 non-null int64\n",
      "purpose_moving                         38649 non-null int64\n",
      "purpose_other                          38649 non-null int64\n",
      "purpose_renewable_energy               38649 non-null int64\n",
      "purpose_small_business                 38649 non-null int64\n",
      "purpose_vacation                       38649 non-null int64\n",
      "purpose_wedding                        38649 non-null int64\n",
      "term_ 36 months                        38649 non-null int64\n",
      "term_ 60 months                        38649 non-null int64\n",
      "debt_settlement_flag_N                 38649 non-null int64\n",
      "debt_settlement_flag_Y                 38649 non-null int64\n",
      "dtypes: float64(13), int64(29)\n",
      "memory usage: 12.4 MB\n"
     ]
    }
   ],
   "source": [
    "loans.info()"
   ]
  },
  {
   "cell_type": "code",
   "execution_count": 58,
   "metadata": {},
   "outputs": [],
   "source": [
    "cols = list(loans.columns.values) #Make a list of all of the columns in the df\n",
    "cols.pop(cols.index('loan_status')) #Remove b from list\n",
    "loans = loans[cols+['loan_status']]"
   ]
  },
  {
   "cell_type": "code",
   "execution_count": 59,
   "metadata": {},
   "outputs": [
    {
     "name": "stdout",
     "output_type": "stream",
     "text": [
      "<class 'pandas.core.frame.DataFrame'>\n",
      "RangeIndex: 38649 entries, 0 to 38648\n",
      "Data columns (total 42 columns):\n",
      "loan_amnt                              38649 non-null float64\n",
      "int_rate                               38649 non-null float64\n",
      "installment                            38649 non-null float64\n",
      "emp_length                             38649 non-null int64\n",
      "annual_inc                             38649 non-null float64\n",
      "zip_code                               38649 non-null int64\n",
      "dti                                    38649 non-null float64\n",
      "delinq_2yrs                            38649 non-null float64\n",
      "inq_last_6mths                         38649 non-null float64\n",
      "open_acc                               38649 non-null float64\n",
      "pub_rec                                38649 non-null float64\n",
      "revol_bal                              38649 non-null float64\n",
      "revol_util                             38649 non-null float64\n",
      "total_acc                              38649 non-null float64\n",
      "last_fico_range_high                   38649 non-null float64\n",
      "home_ownership_MORTGAGE                38649 non-null int64\n",
      "home_ownership_NONE                    38649 non-null int64\n",
      "home_ownership_OTHER                   38649 non-null int64\n",
      "home_ownership_OWN                     38649 non-null int64\n",
      "home_ownership_RENT                    38649 non-null int64\n",
      "verification_status_Not Verified       38649 non-null int64\n",
      "verification_status_Source Verified    38649 non-null int64\n",
      "verification_status_Verified           38649 non-null int64\n",
      "purpose_car                            38649 non-null int64\n",
      "purpose_credit_card                    38649 non-null int64\n",
      "purpose_debt_consolidation             38649 non-null int64\n",
      "purpose_educational                    38649 non-null int64\n",
      "purpose_home_improvement               38649 non-null int64\n",
      "purpose_house                          38649 non-null int64\n",
      "purpose_major_purchase                 38649 non-null int64\n",
      "purpose_medical                        38649 non-null int64\n",
      "purpose_moving                         38649 non-null int64\n",
      "purpose_other                          38649 non-null int64\n",
      "purpose_renewable_energy               38649 non-null int64\n",
      "purpose_small_business                 38649 non-null int64\n",
      "purpose_vacation                       38649 non-null int64\n",
      "purpose_wedding                        38649 non-null int64\n",
      "term_ 36 months                        38649 non-null int64\n",
      "term_ 60 months                        38649 non-null int64\n",
      "debt_settlement_flag_N                 38649 non-null int64\n",
      "debt_settlement_flag_Y                 38649 non-null int64\n",
      "loan_status                            38649 non-null int64\n",
      "dtypes: float64(13), int64(29)\n",
      "memory usage: 12.4 MB\n"
     ]
    }
   ],
   "source": [
    "loans.info()"
   ]
  },
  {
   "cell_type": "code",
   "execution_count": 60,
   "metadata": {},
   "outputs": [],
   "source": [
    "\n",
    "sns.set('talk', 'whitegrid', 'dark', font_scale=1, font='Ricty',rc={\"lines.linewidth\": 2, 'grid.linestyle': '--'})\n",
    "def plotAUC(truth, pred, lab):\n",
    "    fpr, tpr, _ = metrics.roc_curve(truth,pred)\n",
    "    roc_auc = metrics.auc(fpr, tpr)\n",
    "    lw = 2\n",
    "    c = (np.random.rand(), np.random.rand(), np.random.rand())\n",
    "    plt.plot(fpr, tpr, color= c,lw=lw, label= lab +'(AUC = %0.2f)' % roc_auc)\n",
    "    plt.plot([0, 1], [0, 1], color='navy', lw=lw, linestyle='--')\n",
    "    plt.xlim([0.0, 1.0])\n",
    "    plt.ylim([0.0, 1.0])\n",
    "    plt.xlabel('False Positive Rate')\n",
    "    plt.ylabel('True Positive Rate')\n",
    "    plt.title('ROC curve') #Receiver Operating Characteristic \n",
    "    plt.legend(loc=\"lower right\")\n",
    "    \n",
    "    \n",
    "\n",
    "import  itertools\n",
    "from sklearn.metrics import confusion_matrix\n",
    "from sklearn import metrics\n",
    "def plot_confusion_matrix(model, normalize=False): # This function prints and plots the confusion matrix.\n",
    "    cm = confusion_matrix(y_test, model, labels=[0, 1])\n",
    "    classes=[\"Will Pay\", \"Will Default\"]\n",
    "    cmap = plt.cm.Blues\n",
    "    title = \"Confusion Matrix\"\n",
    "    if normalize:\n",
    "        cm = cm.astype('float') / cm.sum(axis=1)[:, np.newaxis]\n",
    "        cm = np.around(cm, decimals=3)\n",
    "    plt.imshow(cm, interpolation='nearest', cmap=cmap)\n",
    "    plt.title(title)\n",
    "    plt.colorbar()\n",
    "    tick_marks = np.arange(len(classes))\n",
    "    plt.xticks(tick_marks, classes, rotation=45)\n",
    "    plt.yticks(tick_marks, classes)\n",
    "    thresh = cm.max() / 2.\n",
    "    for i, j in itertools.product(range(cm.shape[0]), range(cm.shape[1])):\n",
    "        plt.text(j, i, cm[i, j],\n",
    "                 horizontalalignment=\"center\",\n",
    "                 color=\"white\" if cm[i, j] > thresh else \"black\")\n",
    "    plt.tight_layout()\n",
    "    plt.ylabel('True label')\n",
    "    plt.xlabel('Predicted label')"
   ]
  },
  {
   "cell_type": "code",
   "execution_count": 61,
   "metadata": {},
   "outputs": [],
   "source": [
    "X_train, X_test, y_train, y_test = train_test_split(loans.iloc[:,:-1], loans.iloc[:,-1], test_size=0.2, random_state=42)"
   ]
  },
  {
   "cell_type": "code",
   "execution_count": 62,
   "metadata": {},
   "outputs": [
    {
     "data": {
      "text/html": [
       "<div>\n",
       "<style scoped>\n",
       "    .dataframe tbody tr th:only-of-type {\n",
       "        vertical-align: middle;\n",
       "    }\n",
       "\n",
       "    .dataframe tbody tr th {\n",
       "        vertical-align: top;\n",
       "    }\n",
       "\n",
       "    .dataframe thead th {\n",
       "        text-align: right;\n",
       "    }\n",
       "</style>\n",
       "<table border=\"1\" class=\"dataframe\">\n",
       "  <thead>\n",
       "    <tr style=\"text-align: right;\">\n",
       "      <th></th>\n",
       "      <th>loan_amnt</th>\n",
       "      <th>int_rate</th>\n",
       "      <th>installment</th>\n",
       "      <th>emp_length</th>\n",
       "      <th>annual_inc</th>\n",
       "      <th>zip_code</th>\n",
       "      <th>dti</th>\n",
       "      <th>delinq_2yrs</th>\n",
       "      <th>inq_last_6mths</th>\n",
       "      <th>open_acc</th>\n",
       "      <th>...</th>\n",
       "      <th>purpose_other</th>\n",
       "      <th>purpose_renewable_energy</th>\n",
       "      <th>purpose_small_business</th>\n",
       "      <th>purpose_vacation</th>\n",
       "      <th>purpose_wedding</th>\n",
       "      <th>term_ 36 months</th>\n",
       "      <th>term_ 60 months</th>\n",
       "      <th>debt_settlement_flag_N</th>\n",
       "      <th>debt_settlement_flag_Y</th>\n",
       "      <th>loan_status</th>\n",
       "    </tr>\n",
       "  </thead>\n",
       "  <tbody>\n",
       "    <tr>\n",
       "      <th>0</th>\n",
       "      <td>5000.0</td>\n",
       "      <td>10.65</td>\n",
       "      <td>162.87</td>\n",
       "      <td>10</td>\n",
       "      <td>24000.0</td>\n",
       "      <td>860</td>\n",
       "      <td>27.65</td>\n",
       "      <td>0.0</td>\n",
       "      <td>1.0</td>\n",
       "      <td>3.0</td>\n",
       "      <td>...</td>\n",
       "      <td>0</td>\n",
       "      <td>0</td>\n",
       "      <td>0</td>\n",
       "      <td>0</td>\n",
       "      <td>0</td>\n",
       "      <td>1</td>\n",
       "      <td>0</td>\n",
       "      <td>1</td>\n",
       "      <td>0</td>\n",
       "      <td>1</td>\n",
       "    </tr>\n",
       "    <tr>\n",
       "      <th>1</th>\n",
       "      <td>2500.0</td>\n",
       "      <td>15.27</td>\n",
       "      <td>59.83</td>\n",
       "      <td>0</td>\n",
       "      <td>30000.0</td>\n",
       "      <td>309</td>\n",
       "      <td>1.00</td>\n",
       "      <td>0.0</td>\n",
       "      <td>5.0</td>\n",
       "      <td>3.0</td>\n",
       "      <td>...</td>\n",
       "      <td>0</td>\n",
       "      <td>0</td>\n",
       "      <td>0</td>\n",
       "      <td>0</td>\n",
       "      <td>0</td>\n",
       "      <td>0</td>\n",
       "      <td>1</td>\n",
       "      <td>1</td>\n",
       "      <td>0</td>\n",
       "      <td>0</td>\n",
       "    </tr>\n",
       "  </tbody>\n",
       "</table>\n",
       "<p>2 rows × 42 columns</p>\n",
       "</div>"
      ],
      "text/plain": [
       "   loan_amnt  int_rate  installment  emp_length  annual_inc  zip_code    dti  \\\n",
       "0     5000.0     10.65       162.87          10     24000.0       860  27.65   \n",
       "1     2500.0     15.27        59.83           0     30000.0       309   1.00   \n",
       "\n",
       "   delinq_2yrs  inq_last_6mths  open_acc     ...       purpose_other  \\\n",
       "0          0.0             1.0       3.0     ...                   0   \n",
       "1          0.0             5.0       3.0     ...                   0   \n",
       "\n",
       "   purpose_renewable_energy  purpose_small_business  purpose_vacation  \\\n",
       "0                         0                       0                 0   \n",
       "1                         0                       0                 0   \n",
       "\n",
       "   purpose_wedding  term_ 36 months  term_ 60 months  debt_settlement_flag_N  \\\n",
       "0                0                1                0                       1   \n",
       "1                0                0                1                       1   \n",
       "\n",
       "   debt_settlement_flag_Y  loan_status  \n",
       "0                       0            1  \n",
       "1                       0            0  \n",
       "\n",
       "[2 rows x 42 columns]"
      ]
     },
     "execution_count": 62,
     "metadata": {},
     "output_type": "execute_result"
    }
   ],
   "source": [
    "from sklearn.preprocessing import StandardScaler\n",
    "scl=StandardScaler()\n",
    "std_scale=scl.fit(X_train)\n",
    "X_train=std_scale.fit_transform(X_train)\n",
    "X_test= std_scale.transform(X_test)\n",
    "\n",
    "#fields=loan_data.columns.values[:-1]\n",
    "#loan_data = pd.DataFrame(scl.fit_transform(loan_data[fields]), columns = fields)\n",
    "loans.head(2)\n"
   ]
  },
  {
   "cell_type": "code",
   "execution_count": 63,
   "metadata": {},
   "outputs": [
    {
     "data": {
      "text/plain": [
       "array([[ 0.52608215,  0.63536865,  0.93788512, ..., -0.60506412,\n",
       "         0.0631983 , -0.0631983 ],\n",
       "       [-1.27536069, -1.38111202, -1.29961948, ..., -0.60506412,\n",
       "         0.0631983 , -0.0631983 ],\n",
       "       [ 0.35866181, -0.51536965,  0.5958307 , ..., -0.60506412,\n",
       "         0.0631983 , -0.0631983 ],\n",
       "       ...,\n",
       "       [-0.0933731 , -1.11762521,  0.02211279, ..., -0.60506412,\n",
       "         0.0631983 , -0.0631983 ],\n",
       "       [-1.27536069, -0.45353091, -1.38046784, ...,  1.65271739,\n",
       "         0.0631983 , -0.0631983 ],\n",
       "       [ 3.1713235 ,  1.19191732,  3.59256534, ..., -0.60506412,\n",
       "         0.0631983 , -0.0631983 ]])"
      ]
     },
     "execution_count": 63,
     "metadata": {},
     "output_type": "execute_result"
    }
   ],
   "source": [
    "X_test"
   ]
  },
  {
   "cell_type": "code",
   "execution_count": 64,
   "metadata": {},
   "outputs": [
    {
     "data": {
      "text/plain": [
       "Index(['loan_amnt', 'int_rate', 'installment', 'emp_length', 'annual_inc',\n",
       "       'zip_code', 'dti', 'delinq_2yrs', 'inq_last_6mths', 'open_acc',\n",
       "       'pub_rec', 'revol_bal', 'revol_util', 'total_acc',\n",
       "       'last_fico_range_high', 'home_ownership_MORTGAGE',\n",
       "       'home_ownership_NONE', 'home_ownership_OTHER', 'home_ownership_OWN',\n",
       "       'home_ownership_RENT', 'verification_status_Not Verified',\n",
       "       'verification_status_Source Verified', 'verification_status_Verified',\n",
       "       'purpose_car', 'purpose_credit_card', 'purpose_debt_consolidation',\n",
       "       'purpose_educational', 'purpose_home_improvement', 'purpose_house',\n",
       "       'purpose_major_purchase', 'purpose_medical', 'purpose_moving',\n",
       "       'purpose_other', 'purpose_renewable_energy', 'purpose_small_business',\n",
       "       'purpose_vacation', 'purpose_wedding', 'term_ 36 months',\n",
       "       'term_ 60 months', 'debt_settlement_flag_N', 'debt_settlement_flag_Y',\n",
       "       'loan_status'],\n",
       "      dtype='object')"
      ]
     },
     "execution_count": 64,
     "metadata": {},
     "output_type": "execute_result"
    }
   ],
   "source": [
    "loans.columns"
   ]
  },
  {
   "cell_type": "code",
   "execution_count": 65,
   "metadata": {},
   "outputs": [
    {
     "name": "stdout",
     "output_type": "stream",
     "text": [
      "Logistic regression training dataset accuracy is  0.8624793816100133\n",
      "Logistic regression test dataset accuracy is  0.8659767141009056\n"
     ]
    },
    {
     "data": {
      "image/png": "[encoded data removed]",
      "text/plain": [
       "<matplotlib.figure.Figure at 0x17d1a9e67b8>"
      ]
     },
     "metadata": {},
     "output_type": "display_data"
    },
    {
     "name": "stdout",
     "output_type": "stream",
     "text": [
      "[[  28 1025]\n",
      " [  11 6666]]\n",
      "\n",
      "TN = 28\n",
      "FN = 1025\n",
      "FP = 11\n",
      "TP = 6666\n"
     ]
    },
    {
     "data": {
      "image/png": "[encoded data removed]",
      "text/plain": [
       "<matplotlib.figure.Figure at 0x17d1aa13b38>"
      ]
     },
     "metadata": {},
     "output_type": "display_data"
    }
   ],
   "source": [
    "clf_LR = LogisticRegression()\n",
    "clf_LR.fit(X_train,y_train)\n",
    "\n",
    "LR_Predict_train = clf_LR.predict(X_train)\n",
    "LR_Predict = clf_LR.predict_proba(X_test)[:,1]\n",
    "LR_Predict_test = clf_LR.predict(X_test)\n",
    "LR_Accuracy_train = accuracy_score(y_train,LR_Predict_train.round())\n",
    "LR_Accuracy_test = accuracy_score(y_test,LR_Predict_test.round())\n",
    "print(\"Logistic regression training dataset accuracy is \",LR_Accuracy_train)\n",
    "print(\"Logistic regression test dataset accuracy is \",LR_Accuracy_test)\n",
    "\n",
    "plotAUC(y_test,LR_Predict,'Logistic Regression')\n",
    "plt.show()\n",
    "plt.figure(figsize=(6,6))\n",
    "\n",
    "confuse = confusion_matrix(y_test,LR_Predict_test)\n",
    "#confuse =plot_confusion_matrix(LR_Predict_bin, normalize=True)\n",
    "print(confuse)\n",
    "\n",
    "print(\"\\nTN =\",confuse[0][0])\n",
    "print(\"FN =\",confuse[0][1])\n",
    "print(\"FP =\",confuse[1][0])\n",
    "print(\"TP =\",confuse[1][1])\n",
    "\n",
    "plot_confusion_matrix(LR_Predict_test, normalize=True)\n"
   ]
  },
  {
   "cell_type": "code",
   "execution_count": 66,
   "metadata": {},
   "outputs": [
    {
     "name": "stdout",
     "output_type": "stream",
     "text": [
      "Best accuracy is 0.9971797459183938\n",
      "LogisticRegression(C=1, class_weight=None, dual=False, fit_intercept=True,\n",
      "          intercept_scaling=1, max_iter=100, multi_class='ovr', n_jobs=1,\n",
      "          penalty='l2', random_state=0, solver='liblinear', tol=0.0001,\n",
      "          verbose=0, warm_start=False)\n"
     ]
    }
   ],
   "source": [
    "from sklearn.model_selection import GridSearchCV\n",
    "def cross_validation_best_parameters(model, param_grid):\n",
    "    grid = GridSearchCV(model, param_grid,cv=10, scoring='accuracy')\n",
    "    X=loan_data.iloc[:,:-1].values\n",
    "    y=loan_data.iloc[:,-1].values\n",
    "    grid.fit(X,y)\n",
    "    mean_scores = [result.mean_validation_score for result in grid.grid_scores_]\n",
    "    return mean_scores,grid.best_score_,grid.best_estimator_\n",
    "logreg =LogisticRegression(random_state=0)\n",
    "c=[0.001, 0.01, 0.1, 1, 10, 100, 1000]\n",
    "param_grid = dict(C=c)\n",
    "mean_scores,Best_Accuracy, Best_classifier = cross_validation_best_parameters(logreg,param_grid)\n",
    "print(\"Best accuracy is \"+ str(Best_Accuracy))\n",
    "print(Best_classifier)"
   ]
  },
  {
   "cell_type": "code",
   "execution_count": 67,
   "metadata": {},
   "outputs": [
    {
     "name": "stdout",
     "output_type": "stream",
     "text": [
      "Logistic regression training set accuracy is  0.8624793816100133\n",
      "Logistic regression test set accuracy is  0.8659767141009056\n"
     ]
    },
    {
     "data": {
      "image/png": "[encoded data removed]",
      "text/plain": [
       "<matplotlib.figure.Figure at 0x17d1c6b1d30>"
      ]
     },
     "metadata": {},
     "output_type": "display_data"
    },
    {
     "data": {
      "image/png": "[encoded data removed]",
      "text/plain": [
       "<matplotlib.figure.Figure at 0x17d231564a8>"
      ]
     },
     "metadata": {},
     "output_type": "display_data"
    },
    {
     "name": "stdout",
     "output_type": "stream",
     "text": [
      "[[  28 1025]\n",
      " [  11 6666]]\n",
      "\n",
      "TN = 28\n",
      "FN = 1025\n",
      "FP = 11\n",
      "TP = 6666\n"
     ]
    }
   ],
   "source": [
    "clf_LR = LogisticRegression(C=Best_classifier.C)\n",
    "clf_LR.fit(X_train,y_train)\n",
    "LR_Predict = clf_LR.predict_proba(X_test)[:,1]\n",
    "LR_Predict_train = clf_LR.predict(X_train)\n",
    "LR_Accuracy_test = accuracy_score(y_train,LR_Predict_train.round())\n",
    "print(\"Logistic regression training set accuracy is \",LR_Accuracy_train)\n",
    "\n",
    "LR_Predict_test = clf_LR.predict(X_test)\n",
    "LR_Accuracy_test = accuracy_score(y_test,LR_Predict_test.round())\n",
    "print(\"Logistic regression test set accuracy is \",LR_Accuracy_test)\n",
    "\n",
    "plotAUC(y_test,LR_Predict,'Logistic Regression')\n",
    "plt.show()\n",
    "plt.figure(figsize=(6,6))\n",
    "plot_confusion_matrix(LR_Predict_test, normalize=True)\n",
    "plt.show()\n",
    "\n",
    "confuse = confusion_matrix(y_test,LR_Predict_test)\n",
    "print(confuse)\n",
    "\n",
    "print(\"\\nTN =\",confuse[0][0])\n",
    "print(\"FN =\",confuse[0][1])\n",
    "print(\"FP =\",confuse[1][0])\n",
    "print(\"TP =\",confuse[1][1])\n"
   ]
  },
  {
   "cell_type": "code",
   "execution_count": 68,
   "metadata": {},
   "outputs": [
    {
     "name": "stdout",
     "output_type": "stream",
     "text": [
      "Decision Tree accuracy of training set is  1.0\n",
      "Decision Tree accuracy of test set is  0.7710219922380336\n"
     ]
    },
    {
     "data": {
      "image/png": "[encoded data removed]",
      "text/plain": [
       "<matplotlib.figure.Figure at 0x17d1a9f21d0>"
      ]
     },
     "metadata": {},
     "output_type": "display_data"
    },
    {
     "data": {
      "image/png": "[encoded data removed]",
      "text/plain": [
       "<matplotlib.figure.Figure at 0x17d1aa1e9e8>"
      ]
     },
     "metadata": {},
     "output_type": "display_data"
    },
    {
     "name": "stdout",
     "output_type": "stream",
     "text": [
      "DT              precision    recall  f1-score   support\n",
      "\n",
      "          0       0.19      0.21      0.20      1053\n",
      "          1       0.87      0.86      0.87      6677\n",
      "\n",
      "avg / total       0.78      0.77      0.78      7730\n",
      "\n"
     ]
    }
   ],
   "source": [
    "from sklearn.tree import DecisionTreeClassifier\n",
    "clf_DT = DecisionTreeClassifier()\n",
    "clf_DT.fit(X_train,y_train)\n",
    "DT_pred_train = clf_DT.predict(X_train)\n",
    "DT_pred_test = clf_DT.predict(X_test)\n",
    "DT_predictproba = clf_DT.predict_proba(X_test)[:,1]\n",
    "DT_Acc_train = accuracy_score(y_train,DT_pred_train)\n",
    "DT_Acc_test = accuracy_score(y_test,DT_pred_test)\n",
    "print(\"Decision Tree accuracy of training set is \",DT_Acc_train)\n",
    "print(\"Decision Tree accuracy of test set is \",DT_Acc_test)\n",
    "plotAUC(y_test,DT_predictproba,'DT')\n",
    "plt.show()\n",
    "plt.figure(figsize=(6,6))\n",
    "plot_confusion_matrix(DT_predictproba, normalize=True)\n",
    "plt.show()\n",
    "print(\"DT\",classification_report(y_test, DT_pred_test, target_names=None))\n"
   ]
  },
  {
   "cell_type": "code",
   "execution_count": 69,
   "metadata": {},
   "outputs": [
    {
     "name": "stdout",
     "output_type": "stream",
     "text": [
      "RandomForestClassifier(bootstrap=True, class_weight=None, criterion='entropy',\n",
      "            max_depth=None, max_features=9, max_leaf_nodes=None,\n",
      "            min_impurity_decrease=0.0, min_impurity_split=None,\n",
      "            min_samples_leaf=1, min_samples_split=2,\n",
      "            min_weight_fraction_leaf=0.0, n_estimators=10, n_jobs=1,\n",
      "            oob_score=False, random_state=0, verbose=0, warm_start=False)\n"
     ]
    }
   ],
   "source": [
    "from sklearn.grid_search import RandomizedSearchCV\n",
    "rf = RandomForestClassifier(criterion='entropy', random_state=0)\n",
    "maxFeatures = range(1,loan_data.shape[1]-1)\n",
    "param_dist = dict(max_features=maxFeatures)\n",
    "rand = RandomizedSearchCV(rf, param_dist, cv=10, scoring='accuracy', n_iter=len(maxFeatures), random_state=10)\n",
    "X=loan_data.iloc[:,:-1].values\n",
    "y=loan_data.iloc[:,-1].values\n",
    "rand.fit(X,y)\n",
    "mean_scores = [result.mean_validation_score for result in rand.grid_scores_]\n",
    "#print('Best Accuracy = '+str(rand.best_score_))\n",
    "print(rand.best_estimator_)"
   ]
  },
  {
   "cell_type": "code",
   "execution_count": 70,
   "metadata": {},
   "outputs": [
    {
     "name": "stdout",
     "output_type": "stream",
     "text": [
      "Random Forest training set accuracy is : 0.991882014295417\n",
      "Random Forest test set accuracy is : 0.8525226390685641\n"
     ]
    },
    {
     "data": {
      "image/png": "[encoded data removed]",
      "text/plain": [
       "<matplotlib.figure.Figure at 0x17d22ce7940>"
      ]
     },
     "metadata": {},
     "output_type": "display_data"
    },
    {
     "data": {
      "image/png": "[encoded data removed]",
      "text/plain": [
       "<matplotlib.figure.Figure at 0x17d22cf3588>"
      ]
     },
     "metadata": {},
     "output_type": "display_data"
    },
    {
     "name": "stdout",
     "output_type": "stream",
     "text": [
      "[[ 4130   240]\n",
      " [   11 26538]]\n",
      "\n",
      "TN = 4130\n",
      "FN = 240\n",
      "FP = 11\n",
      "TP = 26538\n"
     ]
    }
   ],
   "source": [
    "randomForest = RandomForestClassifier(bootstrap=True,criterion = \"entropy\",max_features=rand.best_estimator_.max_features,random_state=0 )\n",
    "randomForest.fit(X_train,y_train)\n",
    "\n",
    "rfPredict_train = randomForest.predict(X_train)\n",
    "rfAccuracy_train = accuracy_score(y_train,rfPredict_train)\n",
    "\n",
    "rfPredict_test = randomForest.predict(X_test)\n",
    "rfPredictproba = randomForest.predict_proba(X_test)[:,1] #for ROC curve\n",
    "rfAccuracy_test = accuracy_score(y_test,rfPredict_test)\n",
    "roc_score = metrics.roc_auc_score(y_test,rfPredict_test)\n",
    "print(\"Random Forest training set accuracy is :\", rfAccuracy_train)\n",
    "print(\"Random Forest test set accuracy is :\", rfAccuracy_test)\n",
    "\n",
    "plotAUC(y_test,rfPredictproba, 'Random Forest')\n",
    "plt.show()\n",
    "plt.figure(figsize=(6,6))\n",
    "plot_confusion_matrix(LR_Predict_test, normalize=True)\n",
    "plt.show()\n",
    "\n",
    "confuse = confusion_matrix(y_train,rfPredict_train)\n",
    "print(confuse)\n",
    "\n",
    "print(\"\\nTN =\",confuse[0][0])\n",
    "print(\"FN =\",confuse[0][1])\n",
    "print(\"FP =\",confuse[1][0])\n",
    "print(\"TP =\",confuse[1][1])\n"
   ]
  },
  {
   "cell_type": "markdown",
   "metadata": {},
   "source": [
    "# Feature Importance"
   ]
  },
  {
   "cell_type": "code",
   "execution_count": 71,
   "metadata": {},
   "outputs": [
    {
     "name": "stdout",
     "output_type": "stream",
     "text": [
      "Variable: int_rate             Importance: 0.09\n",
      "Variable: annual_inc           Importance: 0.08\n",
      "Variable: zip_code             Importance: 0.08\n",
      "Variable: dti                  Importance: 0.08\n",
      "Variable: revol_bal            Importance: 0.08\n",
      "Variable: revol_util           Importance: 0.08\n",
      "Variable: installment          Importance: 0.07\n",
      "Variable: last_fico_range_high Importance: 0.07\n",
      "Variable: loan_amnt            Importance: 0.06\n",
      "Variable: total_acc            Importance: 0.06\n",
      "Variable: open_acc             Importance: 0.05\n",
      "Variable: emp_length           Importance: 0.04\n",
      "Variable: inq_last_6mths       Importance: 0.03\n",
      "Variable: delinq_2yrs          Importance: 0.01\n",
      "Variable: pub_rec              Importance: 0.01\n",
      "Variable: home_ownership_MORTGAGE Importance: 0.01\n",
      "Variable: home_ownership_RENT  Importance: 0.01\n",
      "Variable: verification_status_Not Verified Importance: 0.01\n",
      "Variable: verification_status_Source Verified Importance: 0.01\n",
      "Variable: verification_status_Verified Importance: 0.01\n",
      "Variable: purpose_credit_card  Importance: 0.01\n",
      "Variable: purpose_debt_consolidation Importance: 0.01\n",
      "Variable: purpose_other        Importance: 0.01\n",
      "Variable: purpose_small_business Importance: 0.01\n",
      "Variable: term_ 36 months      Importance: 0.01\n",
      "Variable: term_ 60 months      Importance: 0.01\n",
      "Variable: debt_settlement_flag_N Importance: 0.01\n",
      "Variable: debt_settlement_flag_Y Importance: 0.01\n",
      "Variable: home_ownership_NONE  Importance: 0.0\n",
      "Variable: home_ownership_OTHER Importance: 0.0\n",
      "Variable: home_ownership_OWN   Importance: 0.0\n",
      "Variable: purpose_car          Importance: 0.0\n",
      "Variable: purpose_educational  Importance: 0.0\n",
      "Variable: purpose_home_improvement Importance: 0.0\n",
      "Variable: purpose_house        Importance: 0.0\n",
      "Variable: purpose_major_purchase Importance: 0.0\n",
      "Variable: purpose_medical      Importance: 0.0\n",
      "Variable: purpose_moving       Importance: 0.0\n",
      "Variable: purpose_renewable_energy Importance: 0.0\n",
      "Variable: purpose_vacation     Importance: 0.0\n",
      "Variable: purpose_wedding      Importance: 0.0\n"
     ]
    }
   ],
   "source": [
    "feature_list=list(loans.columns)\n",
    "# Get numerical feature importances\n",
    "importances = list(randomForest.feature_importances_)\n",
    "\n",
    "# List of tuples with variable and importance\n",
    "feature_importances = [(feature, round(importance, 2)) for feature, importance in zip(feature_list, importances)]\n",
    "\n",
    "# Sort the feature importances by most important first\n",
    "feature_importances = sorted(feature_importances, key = lambda x: x[1], reverse = True)\n",
    "\n",
    "# Print out the feature and importances \n",
    "[print('Variable: {:20} Importance: {}'.format(*pair)) for pair in feature_importances];"
   ]
  },
  {
   "cell_type": "code",
   "execution_count": 72,
   "metadata": {},
   "outputs": [
    {
     "data": {
      "image/png": "[encoded data removed]",
      "text/plain": [
       "<matplotlib.figure.Figure at 0x17d1acafc50>"
      ]
     },
     "metadata": {},
     "output_type": "display_data"
    }
   ],
   "source": [
    "# list of x locations for plotting\n",
    "x_values = list(range(len(importances)))\n",
    "\n",
    "# Make a bar chart\n",
    "plt.bar(x_values, importances, orientation = 'vertical')\n",
    "\n",
    "# Tick labels for x axis\n",
    "plt.xticks(x_values, feature_list, rotation='vertical')\n",
    "\n",
    "# Axis labels and title\n",
    "plt.ylabel('Importance'); plt.xlabel('Variable'); plt.title('Variable Importances');"
   ]
  },
  {
   "cell_type": "markdown",
   "metadata": {},
   "source": [
    "# Support Vector Machine with Grid Search CV"
   ]
  },
  {
   "cell_type": "code",
   "execution_count": 73,
   "metadata": {},
   "outputs": [],
   "source": [
    "clf_svm = SVC(probability=True)\n",
    "clf_svm.fit(X_train,y_train)\n",
    "clfsvmPredict_train = clf_svm.predict(X_train)\n",
    "clfsvmPredict_test = clf_svm.predict(X_test)"
   ]
  },
  {
   "cell_type": "code",
   "execution_count": 74,
   "metadata": {},
   "outputs": [
    {
     "name": "stdout",
     "output_type": "stream",
     "text": [
      "SVM accuracy of training set is  0.8628674924803519\n",
      "SVM accuracy of test set is  0.8658473479948253\n",
      "[[ 4130   240]\n",
      " [   11 26538]]\n",
      "\n",
      "TN = 4130\n",
      "FN = 240\n",
      "FP = 11\n",
      "TP = 26538\n"
     ]
    }
   ],
   "source": [
    "clfsvmPredictproba = clf_svm.predict_proba(X_test)[:,1] #for ROC curve\n",
    "clfsvmAccuracy_train = accuracy_score(y_train,clfsvmPredict_train)\n",
    "print(\"SVM accuracy of training set is \",clfsvmAccuracy_train)\n",
    "clfsvmAccuracy_test = accuracy_score(y_test,clfsvmPredict_test)\n",
    "print(\"SVM accuracy of test set is \",clfsvmAccuracy_test)\n",
    "confuse = confusion_matrix(y_train,rfPredict_train)\n",
    "#confuse =plot_confusion_matrix(LR_Predict_bin, normalize=True)\n",
    "print(confuse)\n",
    "\n",
    "print(\"\\nTN =\",confuse[0][0])\n",
    "print(\"FN =\",confuse[0][1])\n",
    "print(\"FP =\",confuse[1][0])\n",
    "print(\"TP =\",confuse[1][1])\n"
   ]
  },
  {
   "cell_type": "code",
   "execution_count": 75,
   "metadata": {},
   "outputs": [
    {
     "data": {
      "image/png": "[encoded data removed]",
      "text/plain": [
       "<matplotlib.figure.Figure at 0x17d1a4f25c0>"
      ]
     },
     "metadata": {},
     "output_type": "display_data"
    },
    {
     "data": {
      "image/png": "[encoded data removed]",
      "text/plain": [
       "<matplotlib.figure.Figure at 0x17d22beaf98>"
      ]
     },
     "metadata": {},
     "output_type": "display_data"
    }
   ],
   "source": [
    "plotAUC(y_test,clfsvmPredictproba, 'SVM')\n",
    "#plotAUC(y_test,rfPredictproba, 'Random Forest')\n",
    "#plotAUC(y_test,LR_Predict,'Logistic Regression')\n",
    "plt.figure(figsize=(6,6))\n",
    "plot_confusion_matrix(clfsvmPredict_test, normalize=True)\n",
    "plt.show()"
   ]
  },
  {
   "cell_type": "markdown",
   "metadata": {},
   "source": [
    "# K Nearest Neighbors(KNN) with Grid Search CV"
   ]
  },
  {
   "cell_type": "code",
   "execution_count": 76,
   "metadata": {},
   "outputs": [
    {
     "name": "stdout",
     "output_type": "stream",
     "text": [
      "{'n_neighbors': 35}\n",
      "---------------\n",
      "KNeighborsClassifier(algorithm='auto', leaf_size=30, metric='minkowski',\n",
      "           metric_params=None, n_jobs=1, n_neighbors=35, p=2,\n",
      "           weights='uniform')\n"
     ]
    }
   ],
   "source": [
    "from sklearn.neighbors import KNeighborsClassifier\n",
    "\n",
    "clf_knn=KNeighborsClassifier()\n",
    "k_range = list(range(35, 50))\n",
    "param_grid = dict(n_neighbors=k_range)\n",
    "grid = GridSearchCV(clf_knn, param_grid, cv=10, scoring='accuracy')\n",
    "grid.fit(loan_data.iloc[:,:-1].values, loan_data.iloc[:,-1].values)\n",
    "grid_mean_scores = [result.mean_validation_score for result in grid.grid_scores_]# create a list of the mean scores only\n",
    "print(grid.best_params_)\n",
    "print(\"---------------\")\n",
    "print(grid.best_estimator_)"
   ]
  },
  {
   "cell_type": "code",
   "execution_count": 77,
   "metadata": {},
   "outputs": [
    {
     "name": "stdout",
     "output_type": "stream",
     "text": [
      "KNN accuracy of training set is  0.8627704647627672\n",
      "KNN accuracy of test set is  0.8659767141009056\n"
     ]
    },
    {
     "data": {
      "image/png": "[encoded data removed]",
      "text/plain": [
       "<matplotlib.figure.Figure at 0x17d22b96518>"
      ]
     },
     "metadata": {},
     "output_type": "display_data"
    },
    {
     "data": {
      "image/png": "[encoded data removed]",
      "text/plain": [
       "<matplotlib.figure.Figure at 0x17d1ab05080>"
      ]
     },
     "metadata": {},
     "output_type": "display_data"
    },
    {
     "name": "stdout",
     "output_type": "stream",
     "text": [
      "[[ 101  952]\n",
      " [ 188 6489]]\n",
      "\n",
      "TN = 101\n",
      "FN = 952\n",
      "FP = 188\n",
      "TP = 6489\n"
     ]
    }
   ],
   "source": [
    "clf_knn_final = KNeighborsClassifier(n_neighbors=grid.best_params_['n_neighbors'])   #taking the the best from the above cell and using it to find predictions\n",
    "clf_knn_final.fit(X_train,y_train)\n",
    "knn_pred_train = clf_knn_final.predict(X_train)\n",
    "knn_pred_test = clf_knn_final.predict(X_test)\n",
    "knn_predictproba = clf_knn_final.predict_proba(X_test)[:,1]\n",
    "KNN_Acc_train = accuracy_score(y_train,knn_pred_train)\n",
    "print(\"KNN accuracy of training set is \",KNN_Acc_train)\n",
    "KNN_Acc_test = accuracy_score(y_test,knn_pred_test)\n",
    "print(\"KNN accuracy of test set is \",KNN_Acc_test)\n",
    "#plotAUC(y_test,rfPredictproba, 'Random Forest')\n",
    "#plotAUC(y_test,LR_Predict_test,'Logistic Regression')\n",
    "#plotAUC(y_test,clfsvmPredictproba, 'SVM')\n",
    "plotAUC(y_test,knn_predictproba,'K Nearest Neighbors')\n",
    "plt.show()\n",
    "plt.figure(figsize=(6,6))\n",
    "plot_confusion_matrix(knn_pred_test, normalize=True)\n",
    "plt.show()\n",
    "\n",
    "confuse = confusion_matrix(y_test,rfPredict_test)\n",
    "#confuse =plot_confusion_matrix(LR_Predict_bin, normalize=True)\n",
    "print(confuse)\n",
    "\n",
    "print(\"\\nTN =\",confuse[0][0])\n",
    "print(\"FN =\",confuse[0][1])\n",
    "print(\"FP =\",confuse[1][0])\n",
    "print(\"TP =\",confuse[1][1])"
   ]
  },
  {
   "cell_type": "markdown",
   "metadata": {},
   "source": [
    "# Bagging for Classification"
   ]
  },
  {
   "cell_type": "code",
   "execution_count": 78,
   "metadata": {},
   "outputs": [
    {
     "name": "stdout",
     "output_type": "stream",
     "text": [
      "Bagging accuracy score is : 0.9964036021630657\n",
      "Bagging              precision    recall  f1-score   support\n",
      "\n",
      "          0       0.72      0.03      0.05      1053\n",
      "          1       0.87      1.00      0.93      6677\n",
      "\n",
      "avg / total       0.85      0.87      0.81      7730\n",
      "\n"
     ]
    },
    {
     "data": {
      "image/png": "[encoded data removed]",
      "text/plain": [
       "<matplotlib.figure.Figure at 0x17d1ad063c8>"
      ]
     },
     "metadata": {},
     "output_type": "display_data"
    }
   ],
   "source": [
    "from sklearn.ensemble import BaggingClassifier\n",
    "from sklearn.model_selection import KFold\n",
    "\n",
    "seed=7\n",
    "kfold=KFold(n_splits=10,random_state=seed)\n",
    "Bagging_clf = BaggingClassifier(base_estimator=clf_LR,random_state=seed)\n",
    "results = cross_val_score(Bagging_clf, loan_data.iloc[:,:-1].values, loan_data.iloc[:,-1].values, cv=kfold)\n",
    "print(\"Bagging accuracy score is :\",results.mean())\n",
    "\n",
    "\n",
    "Bagging_clf.fit(X_train,y_train)\n",
    "Bagging_pred=Bagging_clf.predict(X_test)\n",
    "Bagging_predictproba = Bagging_clf.predict_proba(X_test)[:,1]\n",
    "plotAUC(y_test,Bagging_predictproba, 'Bagging')\n",
    "\n",
    "print(\"Bagging\",classification_report(y_test, Bagging_pred, target_names=None))"
   ]
  },
  {
   "cell_type": "markdown",
   "metadata": {},
   "source": [
    "# Ada Boost Classifier"
   ]
  },
  {
   "cell_type": "code",
   "execution_count": 79,
   "metadata": {},
   "outputs": [
    {
     "name": "stdout",
     "output_type": "stream",
     "text": [
      "0.9998965044367486\n",
      "Ada Boost              precision    recall  f1-score   support\n",
      "\n",
      "          0       0.38      0.04      0.08      1053\n",
      "          1       0.87      0.99      0.92      6677\n",
      "\n",
      "avg / total       0.80      0.86      0.81      7730\n",
      "\n"
     ]
    },
    {
     "data": {
      "image/png": "[encoded data removed]",
      "text/plain": [
       "<matplotlib.figure.Figure at 0x17d22bc5ef0>"
      ]
     },
     "metadata": {},
     "output_type": "display_data"
    }
   ],
   "source": [
    "from sklearn.ensemble import AdaBoostClassifier\n",
    "from sklearn.tree import ExtraTreeClassifier\n",
    "\n",
    "et = ExtraTreeClassifier(max_depth=4) \n",
    "Ada_clf=AdaBoostClassifier(n_estimators=50, base_estimator=et,learning_rate=1)\n",
    "#Ada_clf=AdaBoostClassifier(n_estimators=100,learning_rate=1)\n",
    "scores = cross_val_score(Ada_clf, loan_data.iloc[:,:-1].values, loan_data.iloc[:,-1].values)\n",
    "print(\"Ada Boost accuracy is \",scores.mean())\n",
    "\n",
    "Ada_clf.fit(X_train,y_train)\n",
    "Ada_pred=Ada_clf.predict(X_test)\n",
    "Ada_predictproba = Ada_clf.predict_proba(X_test)[:,1]\n",
    "plotAUC(y_test,Ada_predictproba, 'Ada Boost')\n",
    "\n",
    "print(\"Ada Boost\",classification_report(y_test, Ada_pred, target_names=None))"
   ]
  },
  {
   "cell_type": "markdown",
   "metadata": {},
   "source": [
    "# Multi-Layer Perceptron Classifier"
   ]
  },
  {
   "cell_type": "markdown",
   "metadata": {},
   "source": [
    "A multilayer perceptron (MLP) is a feedforward artificial neural network. An MLP consists of at least three layers of nodes. MLP utilizes a supervised learning technique called backpropagation for training.Its multiple layers and non-linear activation distinguish MLP from a linear perceptron. It can distinguish data that is not linearly separable. We got our highest accuracy for MLP classifier"
   ]
  },
  {
   "cell_type": "code",
   "execution_count": 81,
   "metadata": {},
   "outputs": [
    {
     "name": "stdout",
     "output_type": "stream",
     "text": [
      "MLP accuracy of training set is : 0.8628674924803519\n",
      "MLP accuracy of training set is : 0.864941785252264\n"
     ]
    },
    {
     "data": {
      "image/png": "[encoded data removed]",
      "text/plain": [
       "<matplotlib.figure.Figure at 0x17d22bfb7b8>"
      ]
     },
     "metadata": {},
     "output_type": "display_data"
    },
    {
     "data": {
      "text/plain": [
       "<matplotlib.figure.Figure at 0x17d246907f0>"
      ]
     },
     "execution_count": 81,
     "metadata": {},
     "output_type": "execute_result"
    },
    {
     "data": {
      "text/plain": [
       "<matplotlib.figure.Figure at 0x17d246907f0>"
      ]
     },
     "metadata": {},
     "output_type": "display_data"
    }
   ],
   "source": [
    "from sklearn.neural_network import MLPClassifier\n",
    "\n",
    "clf_NN=MLPClassifier(solver='lbfgs', alpha=1e-5,hidden_layer_sizes=(5, 2), random_state=1)\n",
    "clf_NN.fit(X_train,y_train)\n",
    "predict_NN_train = clf_NN.predict(X_train)\n",
    "\n",
    "predict_NN_test = clf_NN.predict(X_test)\n",
    "predictproba_NN = clf_NN.predict_proba(X_test)[:,1]\n",
    "NN_accuracy_train=accuracy_score(y_train,predict_NN_train)\n",
    "NN_accuracy_test=accuracy_score(y_test,predict_NN_test)\n",
    "print(\"MLP accuracy of training set is :\",NN_accuracy_train)\n",
    "print(\"MLP accuracy of training set is :\",NN_accuracy_test)\n",
    "plotAUC(y_test,DT_predictproba,'DT')\n",
    "plotAUC(y_test,rfPredictproba, 'RF')\n",
    "plotAUC(y_test,LR_Predict,'LR')\n",
    "plotAUC(y_test,clfsvmPredictproba, 'SVM')\n",
    "plotAUC(y_test,knn_predictproba,'K-NN')\n",
    "plotAUC(y_test,Bagging_predictproba, 'Bagging')\n",
    "plotAUC(y_test,Ada_predictproba, 'Ada Boost')\n",
    "plotAUC(y_test,predictproba_NN,'MLP')\n",
    "plt.show()\n",
    "plt.figure(figsize=(20,20))\n",
    "#plot_confusion_matrix(predictproba_NN, normalize=True)\n",
    "#plt.show()\n"
   ]
  },
  {
   "cell_type": "markdown",
   "metadata": {},
   "source": [
    "# Precision,recall,F1score for all models"
   ]
  },
  {
   "cell_type": "code",
   "execution_count": 83,
   "metadata": {
    "scrolled": true
   },
   "outputs": [
    {
     "name": "stdout",
     "output_type": "stream",
     "text": [
      "DT              precision    recall  f1-score   support\n",
      "\n",
      "          0       0.19      0.21      0.20      1053\n",
      "          1       0.87      0.86      0.87      6677\n",
      "\n",
      "avg / total       0.78      0.77      0.78      7730\n",
      "\n",
      "RF              precision    recall  f1-score   support\n",
      "\n",
      "          0       0.35      0.10      0.15      1053\n",
      "          1       0.87      0.97      0.92      6677\n",
      "\n",
      "avg / total       0.80      0.85      0.81      7730\n",
      "\n",
      "SVM              precision    recall  f1-score   support\n",
      "\n",
      "          0       1.00      0.02      0.03      1053\n",
      "          1       0.87      1.00      0.93      6677\n",
      "\n",
      "avg / total       0.88      0.87      0.81      7730\n",
      "\n",
      "LR              precision    recall  f1-score   support\n",
      "\n",
      "          0       0.72      0.03      0.05      1053\n",
      "          1       0.87      1.00      0.93      6677\n",
      "\n",
      "avg / total       0.85      0.87      0.81      7730\n",
      "\n",
      "KNN              precision    recall  f1-score   support\n",
      "\n",
      "          0       0.90      0.02      0.04      1053\n",
      "          1       0.87      1.00      0.93      6677\n",
      "\n",
      "avg / total       0.87      0.87      0.81      7730\n",
      "\n",
      "MLP              precision    recall  f1-score   support\n",
      "\n",
      "          0       0.62      0.02      0.04      1053\n",
      "          1       0.87      1.00      0.93      6677\n",
      "\n",
      "avg / total       0.83      0.86      0.81      7730\n",
      "\n",
      "Bagging              precision    recall  f1-score   support\n",
      "\n",
      "          0       0.72      0.03      0.05      1053\n",
      "          1       0.87      1.00      0.93      6677\n",
      "\n",
      "avg / total       0.85      0.87      0.81      7730\n",
      "\n",
      "Ada Boost              precision    recall  f1-score   support\n",
      "\n",
      "          0       0.38      0.04      0.08      1053\n",
      "          1       0.87      0.99      0.92      6677\n",
      "\n",
      "avg / total       0.80      0.86      0.81      7730\n",
      "\n"
     ]
    }
   ],
   "source": [
    "from sklearn.metrics import classification_report\n",
    "\n",
    "print(\"DT\",classification_report(y_test, DT_pred_test, target_names=None))\n",
    "print(\"RF\",classification_report(y_test, rfPredict_test, target_names=None))\n",
    "print(\"SVM\",classification_report(y_test, clfsvmPredict_test, target_names=None))\n",
    "print(\"LR\",classification_report(y_test, LR_Predict_test, target_names=None))\n",
    "print(\"KNN\",classification_report(y_test, knn_pred_test, target_names=None))\n",
    "print(\"MLP\",classification_report(y_test, predict_NN_test, target_names=None))\n",
    "print(\"Bagging\",classification_report(y_test, Bagging_pred, target_names=None))\n",
    "print(\"Ada Boost\",classification_report(y_test, Ada_pred, target_names=None))"
   ]
  },
  {
   "cell_type": "code",
   "execution_count": null,
   "metadata": {},
   "outputs": [],
   "source": []
  },
  {
   "cell_type": "code",
   "execution_count": null,
   "metadata": {},
   "outputs": [],
   "source": []
  }
 ],
 "metadata": {
  "kernelspec": {
   "display_name": "Python 3",
   "language": "python",
   "name": "python3"
  },
  "language_info": {
   "codemirror_mode": {
    "name": "ipython",
    "version": 3
   },
   "file_extension": ".py",
   "mimetype": "text/x-python",
   "name": "python",
   "nbconvert_exporter": "python",
   "pygments_lexer": "ipython3",
   "version": "3.6.4"
  }
 },
 "nbformat": 4,
 "nbformat_minor": 2
}
